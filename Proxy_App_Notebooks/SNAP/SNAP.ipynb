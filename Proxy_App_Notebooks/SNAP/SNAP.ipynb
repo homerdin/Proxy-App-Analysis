{
 "cells": [
  {
   "cell_type": "markdown",
   "metadata": {},
   "source": [
    "# SNAP\n",
    "\n",
    "SNAP serves as a proxy application to model the performance of a modern discrete ordinates neutral particle transport application. SNAP may be considered an update to Sweep3D, intended for hybri\n",
    "d computing architectures. It is modeled off the Los Alamos National Laboratory code PARTISN. PARTISN solves the linear Boltzmann transport equation (TE), a governing equation for determining the number of n\n",
    "eutral particles (e.g., neutrons and gamma rays) in a multi-dimensional phase space. SNAP itself is not a particle transport application; SNAP incorporates no actual physics in its available data, nor does i\n",
    "t use numerical operators specifically designed for particle transport. Rather, SNAP mimics the computational workload, memory requirements, and communication patterns of PARTISN. The equation it solves has \n",
    "been composed to use the same number of operations, use the same data layout, and load elements of the arrays in approximately the same order. Although the equation SNAP solves looks similar to the TE, it ha\n",
    "s no real world relevance."
   ]
  },
  {
   "cell_type": "markdown",
   "metadata": {},
   "source": [
    "---\n",
    "## Parameters - inputFile with only # threads changed\n",
    "\n",
    "```\n",
    "! Input from namelist\n",
    "&invar\n",
    "  nthreads=72\n",
    "  nnested=1\n",
    "  npey=1\n",
    "  npez=1\n",
    "  ndimen=3\n",
    "  nx=20\n",
    "  lx=0.02\n",
    "  ny=20\n",
    "  ly=0.02\n",
    "  nz=12\n",
    "  lz=0.012\n",
    "  ichunk=10\n",
    "  nmom=4\n",
    "  nang=80\n",
    "  ng=72\n",
    "  mat_opt=1\n",
    "  src_opt=1\n",
    "  timedep=1\n",
    "  it_det=0\n",
    "  tf=0.01\n",
    "  nsteps=10\n",
    "  iitm=5\n",
    "  oitm=100\n",
    "  epsi=1.E-4\n",
    "  fluxp=0\n",
    "  scatp=0\n",
    "  fixup=0\n",
    "  soloutp=1\n",
    "  angcpy=2\n",
    "/\n",
    "```"
   ]
  },
  {
   "cell_type": "markdown",
   "metadata": {},
   "source": [
    "---\n",
    "## Scaling"
   ]
  },
  {
   "cell_type": "code",
   "execution_count": 1,
   "metadata": {
    "collapsed": true
   },
   "outputs": [],
   "source": [
    "import matplotlib\n",
    "import numpy as np\n",
    "import matplotlib.pyplot as plt\n",
    "%matplotlib inline"
   ]
  },
  {
   "cell_type": "code",
   "execution_count": 3,
   "metadata": {},
   "outputs": [
    {
     "data": {
      "image/png": "[encoded data removed]",
      "text/plain": [
       "<matplotlib.figure.Figure at 0x10b933940>"
      ]
     },
     "metadata": {},
     "output_type": "display_data"
    }
   ],
   "source": [
    "# Plot Measurements\n",
    "Threads = [1,2,4,8,18,36,72]\n",
    "fig, ax = plt.subplots(); ax.set_xscale('log', basex=2); ax.set_xticks(Threads)\n",
    "ax.get_xaxis().set_major_formatter(matplotlib.ticker.ScalarFormatter())\n",
    "ax.plot(Threads,[277.0, 167.0, 87.75, 48.75, 32.94444444444444, 33.33333333333333, 33.33333333333333],\n",
    "        label='Observed Scaling')\n",
    "ax.plot(Threads, [277.0, 138.5, 69.25, 34.625, 15.38888888888889, 7.694444444444445, 3.8472222222222223],\n",
    "        label='Perfect Scaling')\n",
    "ax.legend(); ax.set_xlabel('Threads'); ax.set_ylabel('Seconds')\n",
    "plt.show()"
   ]
  },
  {
   "cell_type": "markdown",
   "metadata": {},
   "source": [
    "---\n",
    "## Intel Software Development Emulator \n",
    "| SDE Metrics | SNAP |\n",
    "|:-----------|:---:|\n",
    "| **Arithmetic Intensity** | 0.11 |\n",
    "| **Bytes per Load Inst** | 25.57 |\n",
    "| **Bytes per Store Inst** | 24.39 |"
   ]
  },
  {
   "cell_type": "markdown",
   "metadata": {},
   "source": [
    "---\n",
    "## Roofline  -  Intel(R) Xeon(R) CPU E5-2699 v3 @ 2.30GHz\n",
    "### 72 Threads - 36 - Cores 2300.0 Mhz\n",
    "|     GB/sec     |  L1 B/W |  L2 B/W |  L3 B/W | DRAM B/W |\n",
    "|:---------------|:-------:|:-------:|:-------:|:--------:|\n",
    "|**1 Thread**  | 143.1 |  44.87 | 33.12 |   16.04  |\n",
    "|**36 Threads**  | 2509.07 |  807.72 | 558.03 |   58.38  |\n",
    "|**72 Threads**  | 2391.14 |  792.13 | 581.89 |   42.97  |"
   ]
  },
  {
   "cell_type": "markdown",
   "metadata": {},
   "source": [
    "---\n",
    "## Experiment Aggregate Metrics\n",
    " |Threads (Time)| IPC per Core | Loads per Cycle | L1 Hits per Cycle |  L1 Miss Ratio | L2 Miss Ratio | L3 Miss Ratio | L2 B/W Utilized | L3 B/W Utilized |DRAM B/W Utilized|\n",
    "|:---:|:---:|:---:|:---:|:---:|:---:|:---:|:---:|:---:|:---:|\n",
    "|1 (100.0%)|1.98|0.85|1.03|4.03%|22.66%|36.49%|18.24%|13.75%|1.39%|\n",
    "|36 (100.0%)|0.79|0.33|0.39|3.19%|20.79%|32.82%|10.54%|8.49%|4.92%|\n",
    "|72 (100.0%)|0.96|0.17|0.20|8.31%|16.93%|21.85%|14.55%|7.57%|1.03%|"
   ]
  },
  {
   "cell_type": "markdown",
   "metadata": {},
   "source": [
    "---\n",
    "## SUBROUTINE dim3_sweep\n",
    "### Data for entire subroutine (only data members and outer loop structure show)\n",
    "\n",
    " |Threads (Time)| IPC per Core | Loads per Cycle | L1 Hits per Cycle |  L1 Miss Ratio | L2 Miss Ratio | L3 Miss Ratio | L2 B/W Utilized | L3 B/W Utilized |DRAM B/W Utilized|\n",
    "|:---:|:---:|:---:|:---:|:---:|:---:|:---:|:---:|:---:|:---:|\n",
    "|1 (80.9%)|1.82|0.90|1.06|4.37%|21.55%|35.76%|20.79%|14.33%|1.38%|\n",
    "|36 (65.9%)|0.56|0.29|0.33|4.88%|19.91%|37.08%|14.40%|10.70%|7.13%|\n",
    "|72 (66.0%)|0.57|0.13|0.14|14.73%|16.13%|24.45%|20.08%|9.58%|1.53%|\n",
    "\n",
    "```fortran\n",
    "33   SUBROUTINE dim3_sweep ( ich, id, d1, d2, d3, d4, jd, kd, oct, g, t,  &\n",
    " 34     iop, reqs, szreq, psii, psij, psik, qtot, ec, vdelt, ptr_in,       &\n",
    " 35     ptr_out, dinv, flux0, fluxm, jb_in, jb_out, kb_in, kb_out, wmu,    &\n",
    " 36     weta, wxi, flkx, flky, flkz, t_xs, fmin, fmax )\n",
    " 37 \n",
    " 38 !-----------------------------------------------------------------------\n",
    " 39 !\n",
    " 40 ! 3-D slab mesh sweeper.\n",
    " 41 !\n",
    " 42 !-----------------------------------------------------------------------\n",
    " 43 \n",
    " 44     INTEGER(i_knd), INTENT(IN) :: ich, id, d1, d2, d3, d4, jd, kd, oct,&\n",
    " 45       g, t, iop, szreq\n",
    " 46 \n",
    " 47     INTEGER(i_knd), DIMENSION(szreq), INTENT(INOUT) :: reqs\n",
    " 48 \n",
    " 49     REAL(r_knd), INTENT(IN) :: vdelt\n",
    " 50 \n",
    " 51     REAL(r_knd), INTENT(INOUT) :: fmin, fmax\n",
    " 52 \n",
    " 53     REAL(r_knd), DIMENSION(nang), INTENT(IN) :: wmu, weta, wxi\n",
    " 54 \n",
    " 55     REAL(r_knd), DIMENSION(nang,cmom), INTENT(IN) :: ec\n",
    " 56 \n",
    " 57     REAL(r_knd), DIMENSION(nang,ny,nz), INTENT(INOUT) :: psii\n",
    " 58 \n",
    " 59     REAL(r_knd), DIMENSION(nang,ichunk,nz), INTENT(INOUT) :: psij,     &\n",
    " 60       jb_in, jb_out\n",
    " 61 \n",
    " 62     REAL(r_knd), DIMENSION(nang,ichunk,ny), INTENT(INOUT) :: psik,     &\n",
    " 63       kb_in, kb_out\n",
    " 64 \n",
    " 65     REAL(r_knd), DIMENSION(nx,ny,nz), INTENT(IN) :: t_xs\n",
    " 66 \n",
    " 67     REAL(r_knd), DIMENSION(nx,ny,nz), INTENT(INOUT) :: flux0\n",
    " 68 \n",
    " 69     REAL(r_knd), DIMENSION(nx+1,ny,nz), INTENT(INOUT) :: flkx\n",
    " 70 \n",
    " 71     REAL(r_knd), DIMENSION(nx,ny+1,nz), INTENT(INOUT) :: flky\n",
    " 72 \n",
    " 73     REAL(r_knd), DIMENSION(nx,ny,nz+1), INTENT(INOUT) :: flkz\n",
    " 74 \n",
    " 75     REAL(r_knd), DIMENSION(nang,ichunk,ny,nz), INTENT(IN) :: dinv\n",
    " 76 \n",
    " 77     REAL(r_knd), DIMENSION(cmom-1,nx,ny,nz), INTENT(INOUT) :: fluxm\n",
    " 78 \n",
    " 79     REAL(r_knd), DIMENSION(cmom,ichunk,ny,nz), INTENT(IN) :: qtot\n",
    " 80 \n",
    " 81     REAL(r_knd), DIMENSION(d1,d2,d3,d4), INTENT(IN) :: ptr_in\n",
    " 82 \n",
    " 83     REAL(r_knd), DIMENSION(d1,d2,d3,d4), INTENT(OUT) :: ptr_out\n",
    " 84 !_______________________________________________________________________\n",
    " 85 !\n",
    " 86 !   Local variables\n",
    " 87 !_______________________________________________________________________\n",
    " 88 \n",
    " 89     INTEGER(i_knd) :: ist, iclo, ichi, jst, jlo, jhi, kst, klo, khi, k,&\n",
    " 90       j, ic, i, l, ibl, ibr, ibb, ibt, ibf, ibk\n",
    " 91 \n",
    " 92     LOGICAL(l_knd) :: receive\n",
    " 93 \n",
    " 94     REAL(r_knd) :: sum_hv\n",
    " 95 \n",
    " 96     REAL(r_knd), DIMENSION(nang) :: psi, pc, den\n",
    " 97 \n",
    " 98     REAL(r_knd), DIMENSION(nang,4) :: hv, fxhv\n",
    "        {...}\n",
    "135 !_______________________________________________________________________\n",
    "136 !\n",
    "137 !   Loop over the cells using bounds/stride above\n",
    "138 !_______________________________________________________________________\n",
    "139 \n",
    "140     k_loop:  DO k = klo, khi, kst\n",
    "141     j_loop:  DO j = jlo, jhi, jst\n",
    "142     ic_loop: DO ic = iclo, ichi, ist\n",
    "```\n",
    "### 3 Most costly loops shown below are within these loops"
   ]
  },
  {
   "cell_type": "markdown",
   "metadata": {},
   "source": [
    "---\n",
    "## loop at dim3_sweep.f90: 168\n",
    "\n",
    " |Threads (Time)| IPC per Core | Loads per Cycle | L1 Hits per Cycle |  L1 Miss Ratio | L2 Miss Ratio | L3 Miss Ratio | L2 B/W Utilized | L3 B/W Utilized |DRAM B/W Utilized|\n",
    "|:---:|:---:|:---:|:---:|:---:|:---:|:---:|:---:|:---:|:---:|\n",
    "|1 (15.5%)|2.41|1.28|1.71|0.36%|15.81%|14.23%|2.94%|2.92%|0.03%|\n",
    "|36 (4.9%)|1.81|0.97|1.30|0.62%|15.53%|37.66%|6.78%|6.40%|1.28%|\n",
    "|72 (4.6%)|1.22|0.48|0.61|3.37%|15.00%|26.87%|17.50%|7.68%|0.37%|\n",
    "\n",
    "```fortran\n",
    "168       DO l = 2, cmom\n",
    "169         psi = psi + ec(:,l)*qtot(l,ic,j,k)\n",
    "170       END DO\n",
    "```"
   ]
  },
  {
   "cell_type": "markdown",
   "metadata": {},
   "source": [
    "---\n",
    "## loop at dim3_sweep.f90: 257\n",
    "\n",
    " |Threads (Time)| IPC per Core | Loads per Cycle | L1 Hits per Cycle |  L1 Miss Ratio | L2 Miss Ratio | L3 Miss Ratio | L2 B/W Utilized | L3 B/W Utilized |DRAM B/W Utilized|\n",
    "|:---:|:---:|:---:|:---:|:---:|:---:|:---:|:---:|:---:|:---:|\n",
    "|1 (16.9%)|0.79|0.49|0.46|19.93%|23.50%|38.56%|50.75%|30.93%|5.56%|\n",
    "|36 (30.7%)|0.12|0.07|0.07|21.27%|20.34%|36.12%|15.60%|11.76%|11.38%|\n",
    "|72 (30.2%)|0.35|0.03|0.02|57.21%|16.96%|21.73%|18.89%|10.38%|2.25%|\n",
    "\n",
    "```fortran\n",
    "251 !_______________________________________________________________________\n",
    "252 !\n",
    "253 !     Compute initial solution\n",
    "254 !_______________________________________________________________________\n",
    "255 \n",
    "256       IF ( vdelt /= zero ) THEN\n",
    "257         pc = ( psi + psii(:,j,k)*mu*hi + psij(:,ic,k)*eta*hj +         &\n",
    "258           psik(:,ic,j)*xi*hk + ptr_in(:,i,j,k)*vdelt ) * dinv(:,ic,j,k)\n",
    "259       ELSE\n",
    "260         pc = ( psi + psii(:,j,k)*mu*hi + psij(:,ic,k)*eta*hj +         &\n",
    "261           psik(:,ic,j)*xi*hk ) * dinv(:,ic,j,k)\n",
    "262       END IF\n",
    "```"
   ]
  },
  {
   "cell_type": "markdown",
   "metadata": {},
   "source": [
    "--- \n",
    "## loop at dim3_sweep.f90: 397\n",
    "\n",
    " |Threads (Time)| IPC per Core | Loads per Cycle | L1 Hits per Cycle |  L1 Miss Ratio | L2 Miss Ratio | L3 Miss Ratio | L2 B/W Utilized | L3 B/W Utilized |DRAM B/W Utilized|\n",
    "|:---:|:---:|:---:|:---:|:---:|:---:|:---:|:---:|:---:|:---:|\n",
    "|1 (19.9%)|1.87|0.94|0.94|3.36%|11.88%|36.01%|12.28%|7.70%|0.40%|\n",
    "|36 (10.4%)|0.86|0.45|0.45|3.74%|13.00%|58.47%|13.52%|7.07%|4.46%|\n",
    "|72 (7.8%)|0.90|0.27|0.25|12.64%|11.57%|47.94%|28.93%|7.82%|1.59%|\n",
    "\n",
    "```fortran\n",
    "397         DO l = 1, cmom-1\n",
    "398           fluxm(l,i,j,k) = fluxm(l,i,j,k) + SUM( ec(:,l+1)*psi )\n",
    "399         END DO\n",
    "```\n"
   ]
  },
  {
   "cell_type": "markdown",
   "metadata": {},
   "source": [
    "---\n",
    "```fortran\n",
    "411 !_______________________________________________________________________\n",
    "412 !\n",
    "413 !   Finish the loops\n",
    "414 !_______________________________________________________________________\n",
    "415 \n",
    "416     END DO ic_loop\n",
    "417     END DO j_loop\n",
    "418     END DO k_loop\n",
    "419 !__________________________\n",
    "```"
   ]
  },
  {
   "cell_type": "markdown",
   "metadata": {},
   "source": [
    "## Discussion\n",
    "When scaled up across threads around 27% of the time is spent in `kmp_wait_release.h`. However the if statement at line 257 takes an increasing chunck of the time.  The `IF` path accounts for almost all the data.  Latency bound from high miss ratios.  Why is it missing (can it do better?)\n",
    "\n",
    "TODO: Clarify understanding of fortran data layout and access pattern."
   ]
  }
 ],
 "metadata": {
  "kernelspec": {
   "display_name": "Python 3",
   "language": "python",
   "name": "python3"
  },
  "language_info": {
   "codemirror_mode": {
    "name": "ipython",
    "version": 3
   },
   "file_extension": ".py",
   "mimetype": "text/x-python",
   "name": "python",
   "nbconvert_exporter": "python",
   "pygments_lexer": "ipython3",
   "version": "3.6.2"
  }
 },
 "nbformat": 4,
 "nbformat_minor": 2
}
