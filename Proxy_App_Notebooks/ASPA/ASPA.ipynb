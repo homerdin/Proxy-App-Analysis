{
 "cells": [
  {
   "cell_type": "markdown",
   "metadata": {},
   "source": [
    "## ASPA\n",
    "The purpose of ASPA (__A__daptive __S__ampling\n",
    "__P__roxy __A__pplication) is to enable the evaluation\n",
    "of a technique known as **adaptive sampling** on advanced computer\n",
    "architectures.  Adaptive sampling is of interest in simulations\n",
    "involving multiple physical scales, wherein models of individual\n",
    "scales are combined using some form of **scale bridging**.\n",
    "  \n",
    "Adaptive sampling [Barton2008,Knap2008] attempts to significantly reduce the number of fine-scale evaluations by dynamically constructing a database of fine-scale evaluations and interpolation models.  When the response of the fine-scale model is needed at a new point, the database is\n",
    "searched for interpolation models centered at 'nearby' points.\n",
    "Assuming that the interpolation models possess error estimators, they\n",
    "can be evaluated to determine if the fine-scale response at the\n",
    "current query point can be obtained to sufficient accuracy simply by\n",
    "interpolation from previously known states.  If not, the fine-scale\n",
    "model must be evaluated and the new input/response pair added to the\n",
    "closest interpolation model.  \n"
   ]
  },
  {
   "cell_type": "markdown",
   "metadata": {},
   "source": [
    "---\n",
    "## Parameters\n",
    "```\n",
    "Compiler = icpc (ICC) 18.0.1 20171018\n",
    "Build_Flags = -g -O3 -march=native -std=c++0x -llapack -lblas\n",
    "Run_Parameters = point_data.txt value_data.txt \n",
    "```"
   ]
  },
  {
   "cell_type": "markdown",
   "metadata": {
    "collapsed": true
   },
   "source": [
    "---\n",
    "## Run on 1 Thread 1 Node."
   ]
  },
  {
   "cell_type": "markdown",
   "metadata": {},
   "source": [
    "---\n",
    "## Roofline  -  Intel(R) Xeon(R) CPU E5-2699 v3 @ 2.30GHz\n",
    "### 1 Threads - 1 - Cores 2300.0 Mhz\n",
    "|     GB/sec     |  L1 B/W |  L2 B/W |  L3 B/W | DRAM B/W |\n",
    "|:---------------|:-------:|:-------:|:-------:|:--------:|\n",
    "|**1 Thread**  | 143.10 |  44.87 | 33.12 |   16.04  |"
   ]
  },
  {
   "cell_type": "markdown",
   "metadata": {
    "collapsed": true
   },
   "source": [
    "---\n",
    "ASPA makes use of a database (**M-tree database**), however the sparse data interpolation (known as **kringing**) takes the vast of the application cycles.  The I/O involved is not significant.  \n",
    "\n",
    "The code that is performing the bulk of the work (81.1%) is in the BLAS library within the following kernels:\n",
    "\n",
    "|BLAS Function| % Cycles |\n",
    "|:------------|:--------:|\n",
    "|dgemv        |  59.4%   |\n",
    "|dgemm        |  15.3%   |\n",
    "|dtrsm        |   5.2%   |\n",
    "|ddot         |   1.1%   |"
   ]
  },
  {
   "cell_type": "markdown",
   "metadata": {},
   "source": [
    "---\n",
    "## Intel Software Development Emulator\n",
    "| SDE Metrics | ASPA|\n",
    "|:-----------|:---:|\n",
    "| **Arithmetic Intensity** | 0.06 |\n",
    "| **Bytes per Load Inst** | 7.89 |\n",
    "| **Bytes per Store Inst** | 8.28 |\n"
   ]
  },
  {
   "cell_type": "markdown",
   "metadata": {},
   "source": [
    "---\n",
    "### Experiment Aggregate Metrics\n",
    "\n",
    "| IPC per Core | Loads per Cycle | L1 Hits per Cycle |  L1 Miss Ratio | L2 Miss Ratio | L3 Miss Ratio | L2 B/W Utilized | L3 B/W Utilized |\n",
    "|:---:|:---:|:---:|:---:|:---:|:---:|:---:|:---:|\n",
    "|2.63|0.91|1.06|2.77%|4.61%|6.55%|9.60%|1.14%|"
   ]
  },
  {
   "cell_type": "markdown",
   "metadata": {},
   "source": [
    "---\n",
    "### BLAS performance (Not interesting part of Proxy)\n",
    "\n",
    "### DGEMV (Level 2)\n",
    "\n",
    "| IPC per Core | Loads per Cycle | L1 Hits per Cycle |  L1 Miss Ratio | L2 Miss Ratio | L3 Miss Ratio | L2 B/W Utilized | L3 B/W Utilized |\n",
    "|:---:|:---:|:---:|:---:|:---:|:---:|:---:|:---:|\n",
    "|2.57|1.03|1.02|3.36%|2.02%|8.45%|11.39%|0.48%|\n",
    "\n",
    "### DGEMM (Level 3)\n",
    "\n",
    "| IPC per Core | Loads per Cycle | L1 Hits per Cycle |  L1 Miss Ratio | L2 Miss Ratio | L3 Miss Ratio | L2 B/W Utilized | L3 B/W Utilized |\n",
    "|:---:|:---:|:---:|:---:|:---:|:---:|:---:|:---:|\n",
    "|3.90|1.05|1.54|0.43%|6.71%|12.41%|2.46%|0.74%|"
   ]
  },
  {
   "cell_type": "markdown",
   "metadata": {},
   "source": [
    "---\n",
    "## Discussion\n",
    "This Proxy App is more interesting as a model for using adaptive sampling to enable multi-level physics than as a hardware workload.  The interpolation model reaches hardware limitations within libblas. Code is not being vectorized."
   ]
  },
  {
   "cell_type": "markdown",
   "metadata": {},
   "source": [
    "---\n",
    "### Additional Investigation\n",
    "Look to see if the I/O becomes interesting with MPI Scaling.  \n",
    "Parent App SAMRAI? (Some code was pulled from this)"
   ]
  }
 ],
 "metadata": {
  "kernelspec": {
   "display_name": "Python 3",
   "language": "python",
   "name": "python3"
  },
  "language_info": {
   "codemirror_mode": {
    "name": "ipython",
    "version": 3
   },
   "file_extension": ".py",
   "mimetype": "text/x-python",
   "name": "python",
   "nbconvert_exporter": "python",
   "pygments_lexer": "ipython3",
   "version": "3.6.2"
  }
 },
 "nbformat": 4,
 "nbformat_minor": 2
}
