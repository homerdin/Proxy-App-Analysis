{
 "cells": [
  {
   "cell_type": "markdown",
   "metadata": {},
   "source": [
    "# Nekbone\n",
    "Nekbone solves a standard Poisson equation using a conjugate gradient iteration with a simple or spectral element multigrid preconditio\n",
    "ner on a block or linear geometry. It exposes the principal computational kernel to reveal the essential elements of the algorithmic ar\n",
    "chitectural coupling that is pertinent to Nek5000."
   ]
  },
  {
   "cell_type": "markdown",
   "metadata": {},
   "source": [
    "---\n",
    "## Parameters\n",
    "```\n",
    "Compiler = icc (ICC) 18.0.1 20171018\n",
    "Build_Flags = -g -O3 -march=native\n",
    "Run_Parameters =  \n",
    "```"
   ]
  },
  {
   "cell_type": "markdown",
   "metadata": {},
   "source": [
    "---\n",
    "## Scaling\n",
    "1 Thread 1 Node"
   ]
  },
  {
   "cell_type": "markdown",
   "metadata": {},
   "source": [
    "---\n",
    "## Intel Software Development Emulator\n",
    "| SDE Metrics | Nekbone |\n",
    "|:-----------|:---:|\n",
    "| Arithmetic Intensity | 0.03 |\n",
    "| Bytes per Load Inst | 5.96 |\n",
    "| Bytes per Store Inst | 6.44 |"
   ]
  },
  {
   "cell_type": "markdown",
   "metadata": {},
   "source": [
    "---\n",
    "## Roofline  -  Intel(R) Xeon(R) CPU E5-2699 v3 @ 2.30GHz\n",
    "### 1 Threads - 1 - Cores 2300.0 Mhz\n",
    "|     GB/sec     |  L1 B/W |  L2 B/W |  L3 B/W | DRAM B/W |\n",
    "|:---------------|:-------:|:-------:|:-------:|:--------:|\n",
    "|**1 Threads**  | 143.1 |  44.87 | 33.12 |   16.04  |"
   ]
  },
  {
   "cell_type": "markdown",
   "metadata": {},
   "source": [
    "---\n",
    "## Experiment Aggregate Metrics\n",
    "\n",
    "| CPUTIME % | IPC per Core | Loads per Cycle | L1 Hits per Cycle | |\n",
    "|:---:|:---:|:---:|:---:|:---:|\n",
    "| 100 | 3.34 | 1.13 | 1.20 |  |\n",
    "|**L1 Miss Ratio** | **L2 Miss Ratio** | **L3 Miss Ratio** | **L2 B/W Utilized** | **L3 B/W Utilized** |\n",
    "| 0.70% | 24.12% | 0.28% | 3.48% | 1.99% |"
   ]
  },
  {
   "cell_type": "markdown",
   "metadata": {},
   "source": [
    "---\n",
    "#### `mxf10_`\n",
    "\n",
    "| CPUTIME % | IPC per Core | Loads per Cycle | L1 Hits per Cycle | |\n",
    "|:---:|:---:|:---:|:---:|:---:|\n",
    "| 72.3% | 3.54 | 1.12 | 1.14 |  |\n",
    "|**L1 Miss Ratio** | **L2 Miss Ratio** | **L3 Miss Ratio** | **L2 B/W Utilized** | **L3 B/W Utilized** |\n",
    "| 0.24% | 16.51% | 0.43% | 1.14% | 0.34% |\n",
    "\n",
    "```fortran\n",
    " 211 c-----------------------------------------------------------------------\n",
    " 212       subroutine mxf10(a,n1,b,n2,c,n3)\n",
    " 213 c\n",
    " 214       real a(n1,10),b(10,n3),c(n1,n3)\n",
    " 215 c\n",
    " 216       do j=1,n3\n",
    " 217          do i=1,n1\n",
    " 218             c(i,j) = a(i,1)*b(1,j)\n",
    " 219      $             + a(i,2)*b(2,j)\n",
    " 220      $             + a(i,3)*b(3,j)\n",
    " 221      $             + a(i,4)*b(4,j)\n",
    " 222      $             + a(i,5)*b(5,j)\n",
    " 223      $             + a(i,6)*b(6,j)\n",
    " 224      $             + a(i,7)*b(7,j)\n",
    " 225      $             + a(i,8)*b(8,j)\n",
    " 226      $             + a(i,9)*b(9,j)\n",
    " 227      $             + a(i,10)*b(10,j)\n",
    " 228          enddo\n",
    " 229       enddo\n",
    " 230       return\n",
    " 231       end\n",
    " 232 c-----------------------------------------------------------------------\n",
    " ```"
   ]
  },
  {
   "cell_type": "markdown",
   "metadata": {},
   "source": [
    "---\n",
    "#### `ax_e_`\n",
    "\n",
    "| CPUTIME % | IPC per Core | Loads per Cycle | L1 Hits per Cycle | |\n",
    "|:---:|:---:|:---:|:---:|:---:|\n",
    "| 83.9% | 3.43 | 1.12 | 1.17 |  |\n",
    "|**L1 Miss Ratio** | **L2 Miss Ratio** | **L3 Miss Ratio** | **L2 B/W Utilized** | **L3 B/W Utilized** |\n",
    "| 0.40% | 20.24% | 0.36% | 1.99% | 0.76% |\n",
    "```fortran\n",
    "141 c-------------------------------------------------------------------------\n",
    "142       subroutine ax_e(w,u,g,ur,us,ut,wk) ! Local matrix-vector product\n",
    "143       include 'SIZE'\n",
    "144       include 'TOTAL'\n",
    "145 \n",
    "146       parameter (lxyz=lx1*ly1*lz1)\n",
    "147       real ur(lxyz),us(lxyz),ut(lxyz),wk(lxyz)\n",
    "148       real w(nx1*ny1*nz1),u(nx1*ny1*nz1),g(2*ldim,nx1*ny1*nz1)\n",
    "149 \n",
    "150 \n",
    "151       nxyz = nx1*ny1*nz1\n",
    "152       n    = nx1-1\n",
    "153 \n",
    "154       call local_grad3(ur,us,ut,u,n,dxm1,dxtm1)\n",
    "155 \n",
    "156       do i=1,nxyz\n",
    "157          wr = g(1,i)*ur(i) + g(2,i)*us(i) + g(3,i)*ut(i)\n",
    "158          ws = g(2,i)*ur(i) + g(4,i)*us(i) + g(5,i)*ut(i)\n",
    "159          wt = g(3,i)*ur(i) + g(5,i)*us(i) + g(6,i)*ut(i)\n",
    "160          ur(i) = wr\n",
    "161          us(i) = ws\n",
    "162          ut(i) = wt\n",
    "163       enddo\n",
    "164 \n",
    "165       call local_grad3_t(w,ur,us,ut,n,dxm1,dxtm1,wk)\n",
    "166 \n",
    "167       return\n",
    "168       end\n",
    "169 c-------------------------------------------------------------------------\n",
    "```"
   ]
  },
  {
   "cell_type": "markdown",
   "metadata": {},
   "source": [
    "#### `add2s2_`\n",
    "\n",
    "| CPUTIME % | IPC per Core | Loads per Cycle | L1 Hits per Cycle | |\n",
    "|:---:|:---:|:---:|:---:|:---:|\n",
    "| 5.3% | 2.77 | 1.17 | 1.40 |  |\n",
    "|**L1 Miss Ratio** | **L2 Miss Ratio** | **L3 Miss Ratio** | **L2 B/W Utilized** | **L3 B/W Utilized** |\n",
    "| 1.62% | 27.90% | 0.16% | 10.43% | 6.95% |\n",
    "```fortran\n",
    " 543 c-----------------------------------------------------------------------\n",
    " 544       subroutine add2s2(a,b,c1,n)\n",
    " 545       real a(1),b(1)\n",
    " 546 \n",
    " 547       DO 100 I=1,N\n",
    " 548         A(I)=A(I)+C1*B(I)\n",
    " 549   100 CONTINUE\n",
    " 550       return\n",
    " 551       END\n",
    " 552 \n",
    " 553 c-----------------------------------------------------------------------\n",
    "```"
   ]
  },
  {
   "cell_type": "markdown",
   "metadata": {},
   "source": [
    " #### `glsc3_`\n",
    "\n",
    "| CPUTIME % | IPC per Core | Loads per Cycle | L1 Hits per Cycle | |\n",
    "|:---:|:---:|:---:|:---:|:---:|\n",
    "| 4.9% | 3.32 | 1.29 | 1.55 |  |\n",
    "|**L1 Miss Ratio** | **L2 Miss Ratio** | **L3 Miss Ratio** | **L2 B/W Utilized** | **L3 B/W Utilized** |\n",
    "| 2.18% | 29.36% | 0.13% | 11.01% | 11.09% |\n",
    " ```fortran \n",
    " 602 C----------------------------------------------------------------------------\n",
    " 603       function glsc3(a,b,mult,n)\n",
    " 604 C\n",
    " 605 C     Perform inner-product in double precision\n",
    " 606 C\n",
    " 607       real a(1),b(1),mult(1)\n",
    " 608       real tmp,work(1)\n",
    " 609 \n",
    " 610       tmp = 0.0\n",
    " 611       do 10 i=1,n\n",
    " 612          tmp = tmp + a(i)*b(i)*mult(i)\n",
    " 613  10   continue\n",
    " 614       call gop(tmp,work,'+  ',1)\n",
    " 615       glsc3 = tmp\n",
    " 616       return\n",
    " 617       end\n",
    " 618 c-----------------------------------------------------------------------\n",
    " ```"
   ]
  },
  {
   "cell_type": "markdown",
   "metadata": {},
   "source": [
    "#### `add2_`\n",
    "\n",
    "| CPUTIME % | IPC per Core | Loads per Cycle | L1 Hits per Cycle | |\n",
    "|:---:|:---:|:---:|:---:|:---:|\n",
    "| 3.3% | 2.29 | 1.03 | 1.21 |  |\n",
    "|**L1 Miss Ratio** | **L2 Miss Ratio** | **L3 Miss Ratio** | **L2 B/W Utilized** | **L3 B/W Utilized** |\n",
    "| 0.39% | 4.53% | 0.21% | 1.86% | 0.21% |\n",
    "```fortran\n",
    " 503 c-----------------------------------------------------------------------\n",
    " 504       subroutine add2(a,b,n)\n",
    " 505       real a(1),b(1)\n",
    " 506 \n",
    " 507 !xbm* unroll (10)\n",
    " 508       do i=1,n\n",
    " 509          a(i)=a(i)+b(i)\n",
    " 510       enddo\n",
    " 511       return\n",
    " 512       end\n",
    " 513 c-----------------------------------------------------------------------\n",
    "```"
   ]
  },
  {
   "cell_type": "code",
   "execution_count": null,
   "metadata": {
    "collapsed": true
   },
   "outputs": [],
   "source": []
  }
 ],
 "metadata": {
  "kernelspec": {
   "display_name": "Python 3",
   "language": "python",
   "name": "python3"
  },
  "language_info": {
   "codemirror_mode": {
    "name": "ipython",
    "version": 3
   },
   "file_extension": ".py",
   "mimetype": "text/x-python",
   "name": "python",
   "nbconvert_exporter": "python",
   "pygments_lexer": "ipython3",
   "version": "3.6.2"
  }
 },
 "nbformat": 4,
 "nbformat_minor": 2
}
