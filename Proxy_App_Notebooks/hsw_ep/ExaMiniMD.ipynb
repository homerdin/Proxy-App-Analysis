{
 "cells": [
  {
   "cell_type": "markdown",
   "metadata": {},
   "source": [
    "# ExaMiniMD\n",
    "ExaMiniMD is a proxy application and research vehicle for particle codes, in particular Molecular Dynamics (MD). Compared to previous MD proxy apps (MiniMD, COMD), its design is significantly more modular in order to allow independent investigation of different aspects. To achieve that the main components such as force calculation, communication, neighbor list construction and binning are derived classes whose main functionality is accessed via virtual functions. This allows a developer to write a new derived class and drop it into the code without touching much of the rest of the application."
   ]
  },
  {
   "cell_type": "markdown",
   "metadata": {},
   "source": [
    "---\n",
    "## Parameters\n",
    "```\n",
    "Compiler = icpc (ICC) 18.0.1 20171018\n",
    "Build_Flags = -g -O3 -march=nativei -qopenmp\n",
    "Run_Parameters = -il /home/bhomerding/src/new-proxy-app/ExaMiniMD/input/in.lj --kokkos-threads=72\n",
    "```"
   ]
  },
  {
   "cell_type": "markdown",
   "metadata": {},
   "source": [
    "---\n",
    "## Scaling"
   ]
  },
  {
   "cell_type": "code",
   "execution_count": 1,
   "metadata": {
    "collapsed": true
   },
   "outputs": [],
   "source": [
    "import matplotlib\n",
    "import numpy as np\n",
    "import matplotlib.pyplot as plt\n",
    "%matplotlib inline"
   ]
  },
  {
   "cell_type": "code",
   "execution_count": 2,
   "metadata": {},
   "outputs": [
    {
     "data": {
      "image/png": "[encoded data removed]",
      "text/plain": [
       "<matplotlib.figure.Figure at 0x1093debe0>"
      ]
     },
     "metadata": {},
     "output_type": "display_data"
    }
   ],
   "source": [
    "# Plot Measurements\n",
    "Threads = [1,2,4,8,18,36,72]\n",
    "fig, ax = plt.subplots(); ax.set_xscale('log', basex=2); ax.set_xticks(Threads)\n",
    "ax.get_xaxis().set_major_formatter(matplotlib.ticker.ScalarFormatter())\n",
    "ax.plot(Threads,[122.0, 54.5, 28.75, 13.375, 6.555555555555556, 3.3333333333333335, 1.5],\n",
    "        label='Observed Scaling')\n",
    "ax.plot(Threads, [122.0, 61.0, 30.5, 15.25, 6.777777777777778, 3.388888888888889, 1.6944444444444444],\n",
    "        label='Perfect Scaling')\n",
    "ax.legend(); ax.set_xlabel('Threads'); ax.set_ylabel('Seconds')\n",
    "plt.show()"
   ]
  },
  {
   "cell_type": "markdown",
   "metadata": {},
   "source": [
    "---\n",
    "## Intel Software Development Emulator\n",
    "| SDE Metrics | ExaMiniMD |\n",
    "|:-----------|:---:|\n",
    "| Arithmetic Intensity | 0.22 |\n",
    "| Bytes per Load Inst | 6.87 |\n",
    "| Bytes per Store Inst | 5.36 |"
   ]
  },
  {
   "cell_type": "markdown",
   "metadata": {},
   "source": [
    "---\n",
    "## Roofline  -  Intel(R) Xeon(R) CPU E5-2699 v3 @ 2.30GHz\n",
    "### 72 Threads - 36 - Cores 2300.0 Mhz\n",
    "|     GB/sec     |  L1 B/W |  L2 B/W |  L3 B/W | DRAM B/W |\n",
    "|:---------------|:-------:|:-------:|:-------:|:--------:|\n",
    "|**72 Threads**  | 2391.14 |  792.13 | 581.89 |   42.97  |"
   ]
  },
  {
   "cell_type": "markdown",
   "metadata": {},
   "source": [
    "#### Experiment Aggregate Metrics\n",
    "\n",
    "| CPUTIME % | IPC per Core | Loads per Cycle | L1 Hits per Cycle | |\n",
    "|:---:|:---:|:---:|:---:|:---:|\n",
    "| 100 | 1.26 | 0.27 | 0.29 |  |\n",
    "|**L1 Miss Ratio** | **L2 Miss Ratio** | **L3 Miss Ratio** | **L2 B/W Utilized** | **L3 B/W Utilized** |\n",
    "| 4.88% | 19.63% | 16.81% | 10.11% | 4.21% |"
   ]
  },
  {
   "cell_type": "markdown",
   "metadata": {},
   "source": [
    "## ! Unable to map the measurements to meaningful code sections ! \n",
    "Forced to keep at file level for data breakdown"
   ]
  },
  {
   "cell_type": "markdown",
   "metadata": {},
   "source": [
    "---\n",
    "#### Kokkos_OpenMP_Parallel.hpp\n",
    "\n",
    "| CPUTIME % | IPC per Core | Loads per Cycle | L1 Hits per Cycle | |\n",
    "|:---:|:---:|:---:|:---:|:---:|\n",
    "| 67.3% | 1.15 | 0.18 | 0.17 |  |\n",
    "|**L1 Miss Ratio** | **L2 Miss Ratio** | **L3 Miss Ratio** | **L2 B/W Utilized** | **L3 B/W Utilized** |\n",
    "| 10.10% | 19.88% | 17.43% | 13.24% | 5.43% |"
   ]
  },
  {
   "cell_type": "markdown",
   "metadata": {},
   "source": [
    "---\n",
    "#### kmp_wait_release.h\n",
    "\n",
    "| CPUTIME % | IPC per Core | Loads per Cycle | L1 Hits per Cycle | |\n",
    "|:---:|:---:|:---:|:---:|:---:|\n",
    "| 32.1% | 1.50 | 0.45 | 0.55 |  |\n",
    "|**L1 Miss Ratio** | **L2 Miss Ratio** | **L3 Miss Ratio** | **L2 B/W Utilized** | **L3 B/W Utilized** |\n",
    "| 0.92% | 15.94% | 8.03% | 3.26% | 1.50% |"
   ]
  },
  {
   "cell_type": "code",
   "execution_count": null,
   "metadata": {
    "collapsed": true
   },
   "outputs": [],
   "source": []
  }
 ],
 "metadata": {
  "kernelspec": {
   "display_name": "Python 3",
   "language": "python",
   "name": "python3"
  },
  "language_info": {
   "codemirror_mode": {
    "name": "ipython",
    "version": 3
   },
   "file_extension": ".py",
   "mimetype": "text/x-python",
   "name": "python",
   "nbconvert_exporter": "python",
   "pygments_lexer": "ipython3",
   "version": "3.6.2"
  }
 },
 "nbformat": 4,
 "nbformat_minor": 2
}
