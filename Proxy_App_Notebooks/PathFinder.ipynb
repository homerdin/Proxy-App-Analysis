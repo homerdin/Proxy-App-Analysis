{
 "cells": [
  {
   "cell_type": "markdown",
   "metadata": {},
   "source": [
    "# Pathfinder\n",
    "PathFinder searches for \"signatures\" within graphs. Graphs being searched are directed and cyclic. Many, but not all nodes within the graph have labels. Any given node may have more than one label, and any label may be applied to more than one node. A signature is an orderd list of labels. PathFinder searches for paths between labels within the signature. PathFinder returns success if there is a path from a node with the first label in the signature that passes through  nodes with each label in order, ultimately reaching a node with the last label in the signature. Labeled nodes need not be contiguous on any given path.\n",
    "\n",
    "---\n",
    "## Parameters\n",
    "```\n",
    "Compiler = 'clang 5.0.1'\n",
    "Build_Flags = '-g -O3 -march=native -fopenmp -lgomp -lm'\n",
    "Run_Parameters = '-x data/scaleData/4kx750.adj_list'\n",
    "```\n",
    "\n",
    "---\n",
    "## Scaling"
   ]
  },
  {
   "cell_type": "code",
   "execution_count": 1,
   "metadata": {
    "collapsed": true
   },
   "outputs": [],
   "source": [
    "# Machine Info\n",
    "Cores_per_Socket = 18\n",
    "Sockets = 2\n",
    "Threads_per_Core = 2\n",
    "BYTES_per_CACHELINE = 64 # Bytes per Cacheline # From Documentation\n",
    "CPU_MHz = 2301.0 # MHz # From lscpu or /proc/cpuinfo\n",
    "\n",
    "# Architecture Info\n",
    "IPC_Baseline_per_Core = 2\n",
    "Load_Ports_per_Core = 2"
   ]
  },
  {
   "cell_type": "code",
   "execution_count": 2,
   "metadata": {
    "collapsed": true
   },
   "outputs": [],
   "source": [
    "import matplotlib\n",
    "import numpy as np\n",
    "import matplotlib.pyplot as plt\n",
    "%matplotlib inline"
   ]
  },
  {
   "cell_type": "code",
   "execution_count": 3,
   "metadata": {},
   "outputs": [
    {
     "data": {
      "image/png": "[encoded data removed]",
      "text/plain": [
       "<matplotlib.figure.Figure at 0x105fe7ba8>"
      ]
     },
     "metadata": {},
     "output_type": "display_data"
    }
   ],
   "source": [
    "# Plot Measurements\n",
    "Threads = [1,2,4,8,18,36,72]\n",
    "fig, ax = plt.subplots(); ax.set_xscale('log', basex=2); ax.set_xticks(Threads)\n",
    "ax.get_xaxis().set_major_formatter(matplotlib.ticker.ScalarFormatter())\n",
    "ax.plot(Threads, [89.5, 45.65, 23.9, 15.625, 8.388888888888888, 4.666666666666667, 3.597222222222222],\n",
    "        label='Observed Scaling')\n",
    "ax.plot(Threads, [89.5, 44.75, 22.375, 11.1875, 4.972222222222222, 2.486111111111111, 1.2430555555555556],\n",
    "        label='Perfect Scaling')\n",
    "ax.legend(); ax.set_xlabel('Threads'); ax.set_ylabel('Seconds')\n",
    "plt.show()"
   ]
  },
  {
   "cell_type": "markdown",
   "metadata": {},
   "source": [
    "---\n",
    "## Roofline - Intel Haswell - 72 Threads - 36 Cores - 2 Sockets - 2301.0 Mhz\n",
    "| GB/sec | L1 B/W | L2 B/W | L3 B/W | DRAM B/W |\n",
    "|:---------|:------:|:------:|:------:|:--------:|\n",
    "| **1 Thread**   | 142.7  |  45.0  |  33.7  |   16.0   |\n",
    "|**72 Threads**  | 2399.9  |  784.0  |  564.8  |   60.4  |"
   ]
  },
  {
   "cell_type": "markdown",
   "metadata": {},
   "source": [
    "---\n",
    "## Program Aggregate\n",
    "| Experiment Aggregate Metrics | CPUTIME % | Inst/Cycle per Core | L1 DC Miss % | L2 DC Miss %  | L3 Miss % | L1 Loads/Cycle per Core | L2 B/W Used | L3 B/W Used  | DRAM B/W Used |\n",
    "|:-----------------------------|:---------:|:-------------------:|:------------:|:-------------:|:---------:|:-----------------------:|:-----------:|:------------:|:-------------:|\n",
    "| 1                            |  100.0 %   |        1.6          |         6.1% |         63.3% |      0.0% |                0.49     |       14.5% |       12.3%  |       0.0%    |\n",
    "| 72                           |  100.0 %   |        1.3          |         5.6% |         61.9% |      0.0% |                0.42     |       22.4% |       19.3%  |       0.0%    |\n",
    "\n"
   ]
  },
  {
   "cell_type": "markdown",
   "metadata": {},
   "source": [
    "---\n",
    "## findNextLabel( )\n",
    "| findNextLabel | CPUTIME % | Inst/Cycle per Core | L1 DC Miss % | L2 DC Miss %  | L3 Miss % | L1 Loads/Cycle per Core | L2 B/W Used | L3 B/W Used  | DRAM B/W Used |\n",
    "|:--------------|:---------:|:-------------------:|:------------:|:-------------:|:---------:|:-----------------------:|:-----------:|:------------:|:-------------:|\n",
    "| 1             |  69.9 %   |        1.6          |         5.5% |         68.0% |      0.0% |                0.52     |       13.8% |       12.5%  |       0.0%    |\n",
    "| 72            |  40.8 %   |        2.0          |         6.0% |         66.6% |      0.0% |                0.63     |       37.6% |       34.7%  |       0.0%    |\n",
    "```c\n",
    "138 bool findNextLabel( Node *node, Signature labels, NodePtrVec *result, Bitfield *visited ) \n",
    "139 {\n",
    "140     EdgeList *edge;\n",
    "141     bool success = false;\n",
    "142     NodePtrVec *nextLegResult = NULL;\n",
    "143     /* NodePtrVec *nextLegVisited = NULL; */\n",
    "144     Bitfield *nextLegVisited = NULL;\n",
    "145 \n",
    "146 \n",
    "147     /* A little basic error checking */\n",
    "148     if ( !node || !labels || !result|| !visited )\n",
    "149     {\n",
    "150         return( false );\n",
    "151     }\n",
    "152 \n",
    "153     /* If this node is already in the vector, we have found a loop. return false. */\n",
    "154 \n",
    "155     if ( Bitfield_nodeVisited( visited, node ) )\n",
    "156         return( false );\n",
    "157 \n",
    "158     /* put this node on the result vector to show that we've been here */\n",
    "159     NodePtrVec_push( result, node );\n",
    "160 \n",
    "161     /* Check this node's edges to see if there's a match */\n",
    "162     /* Note: We have a NodePtrVec holding the set of nodes with this label. It\n",
    "163      *       may be more optimal to see if a given edge node is in that set\n",
    "164      *       rather than doing a bunch of inefficient strcmp calls. Another approach\n",
    "165      *       would be to have unique hash values for each label, and thereby be\n",
    "166      *       able to compare those. However for the initial version of this code,\n",
    "167      *       keeping things simple and straightforward, we're doing the string\n",
    "168      *       compare.\n",
    "169      */\n",
    "170 \n",
    "```\n",
    "| loop at searchAlgorithms.c: 171 | CPUTIME % | Inst/Cycle per Core | L1 DC Miss % | L2 DC Miss %  | L3 Miss % | L1 Loads/Cycle per Core | L2 B/W Used | L3 B/W Used  | DRAM B/W Used |\n",
    "|:--------------------------------|:---------:|:-------------------:|:------------:|:-------------:|:---------:|:-----------------------:|:-----------:|:------------:|:-------------:|\n",
    "| 1                               |  32.3 %   |        1.3          |         8.1% |         68.0% |      0.0% |                0.40     |       17.3% |       15.7%  |       0.0%    |\n",
    "| 72                              |  18.0 %   |        1.6          |         8.7% |         66.7% |      0.0% |                0.48     |       46.7% |       43.2%  |       0.0%    |\n",
    "\n",
    "```c\n",
    "171     for ( edge = node->edges; edge != NULL; edge = edge->nextEdge )\n",
    "172     {\n",
    "173 \n",
    "174         // string based:\n",
    "175         if ( edge->targetNode->label && strcmp( edge->targetNode->label, labels[0] ) == 0 )\n",
    "176         // index based: if ( edge->targetNode->labelIdx == labelIdxs[0] )\n",
    "177         {\n",
    "178             if ( labels[1] != NULL ) /* more steps in the signature */\n",
    "179             {\n",
    "180                 nextLegResult = NodePtrVec_new( 50 ); /* arbitrary size, malloc success checked in recursion */\n",
    "181                 nextLegVisited = Bitfield_new(visited->bitsNeeded);\n",
    "182 \n",
    "183                 success = findNextLabel( edge->targetNode, &labels[1], nextLegResult, nextLegVisited );\n",
    "184                 /* NodePtrVec_delete( nextLegVisited ); */\n",
    "185                 Bitfield_delete( nextLegVisited );\n",
    "186                 if ( success )\n",
    "187                 {\n",
    "188                     NodePtrVec_appendVectors( result, nextLegResult, true );\n",
    "189                     NodePtrVec_delete( nextLegResult );\n",
    "190                     return( true );\n",
    "191                 }\n",
    "192 \n",
    "193             }\n",
    "194             else /* We have exhausted the signature - ultimate victory! */\n",
    "195             {\n",
    "196                 /* Register this edge node as being the final node */\n",
    "197                 NodePtrVec_push( result, edge->targetNode );\n",
    "198                 return( true );\n",
    "199             }\n",
    "200         }\n",
    "201     }\n",
    "202 \n",
    "203 \n",
    "204     /* IF we made it here, we need to continue through the tree, seeing if any of our\n",
    "205      * edge nodes have a connection to a labeled node.\n",
    "206      */\n",
    "207     for ( edge = node->edges; edge != NULL; edge = edge->nextEdge )\n",
    "208     {\n",
    "209         success = findNextLabel( edge->targetNode, labels, result, visited );\n",
    "210         if ( success )\n",
    "211             return( true ); /* this edge has a path to the ultimate signature path */\n",
    "212     }\n",
    "213 \n",
    "214 \n",
    "215     /* and, if we make it here, we have failed. */\n",
    "216     NodePtrVec_pop( result ); /* take current node off the result vector */\n",
    "217     return false;\n",
    "218 }\n",
    "```"
   ]
  },
  {
   "cell_type": "markdown",
   "metadata": {
    "collapsed": true
   },
   "source": [
    "Pathfinder scales well but does not pressure the system.  Time is spent waiting or on locks with multiple threads.  \n",
    "\n",
    "## Parallel Waiting \n",
    "```c\n",
    "\n",
    "        #pragma omp parallel for private(i,j) shared(graph) reduction(+:found) \\\n",
    "                reduction(+:searches) collapse(2)\n",
    "```\n",
    "what is causing the waiting?  The reductions are simple counters, probably locks on the shared graph??"
   ]
  },
  {
   "cell_type": "code",
   "execution_count": null,
   "metadata": {
    "collapsed": true
   },
   "outputs": [],
   "source": []
  },
  {
   "cell_type": "code",
   "execution_count": null,
   "metadata": {
    "collapsed": true
   },
   "outputs": [],
   "source": []
  }
 ],
 "metadata": {
  "kernelspec": {
   "display_name": "Python 3",
   "language": "python",
   "name": "python3"
  },
  "language_info": {
   "codemirror_mode": {
    "name": "ipython",
    "version": 3
   },
   "file_extension": ".py",
   "mimetype": "text/x-python",
   "name": "python",
   "nbconvert_exporter": "python",
   "pygments_lexer": "ipython3",
   "version": "3.6.2"
  }
 },
 "nbformat": 4,
 "nbformat_minor": 2
}
