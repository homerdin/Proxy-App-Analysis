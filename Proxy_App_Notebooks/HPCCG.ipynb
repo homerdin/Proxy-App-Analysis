{
 "cells": [
  {
   "cell_type": "markdown",
   "metadata": {},
   "source": [
    "# HPCCG\n",
    "---\n",
    "## Parameters\n",
    "```\n",
    "Compiler = 'clang 5.0.1'\n",
    "Build_Flags = '-g -O3 -march=native -ftree-vectorize -fopenmp'\n",
    "Run_Flags = '256 256 256'\n",
    "```"
   ]
  },
  {
   "cell_type": "markdown",
   "metadata": {},
   "source": [
    "---\n",
    "## Scaling"
   ]
  },
  {
   "cell_type": "code",
   "execution_count": 1,
   "metadata": {
    "collapsed": true
   },
   "outputs": [],
   "source": [
    "import matplotlib\n",
    "import numpy as np\n",
    "import matplotlib.pyplot as plt\n",
    "%matplotlib inline"
   ]
  },
  {
   "cell_type": "code",
   "execution_count": 2,
   "metadata": {},
   "outputs": [
    {
     "data": {
      "image/png": "[encoded data removed]",
      "text/plain": [
       "<matplotlib.figure.Figure at 0x110e03e10>"
      ]
     },
     "metadata": {},
     "output_type": "display_data"
    }
   ],
   "source": [
    "# Plot Measurements\n",
    "Threads = [1,2,4,8,18,36,72]\n",
    "fig, ax = plt.subplots(); ax.set_xscale('log', basex=2); ax.set_xticks(Threads)\n",
    "ax.get_xaxis().set_major_formatter(matplotlib.ticker.ScalarFormatter())\n",
    "ax.plot(Threads, [94.0, 47.8, 28.75, 22.0, 18.722222222222225, 17.722222222222225, 14.583333333333334],\n",
    "        label='Observed Scaling')\n",
    "ax.plot(Threads, [94.0, 47.0, 23.5, 11.75, 5.222222222222222, 2.611111111111111, 1.3055555555555556],\n",
    "        label='Perfect Scaling')\n",
    "ax.legend(); ax.set_xlabel('Threads'); ax.set_ylabel('Seconds')\n",
    "plt.show()"
   ]
  },
  {
   "cell_type": "markdown",
   "metadata": {},
   "source": [
    "---\n",
    "## Roofline - Intel Haswell - 72 Threads - 36 Cores - 2 Sockets - 2301.0 Mhz\n",
    "| GB/sec | L1 B/W | L2 B/W | L3 B/W | DRAM B/W |\n",
    "|:---------|:------:|:------:|:------:|:--------:|\n",
    "| **1 Thread**   | 142.7  |  45.0  |  33.7  |   16.0   |\n",
    "|**72 Threads**  | 2399.9  |  784.0  |  564.8  |   60.4  |"
   ]
  },
  {
   "cell_type": "markdown",
   "metadata": {},
   "source": [
    "---\n",
    "## Program Aggregate\n",
    "| Experiment Aggregate Metrics | CPUTIME % | Inst/Cycle per Core | L1 DC Miss % | L2 DC Miss %  | L3 Miss % | L1 Loads/Cycle per Core | L2 B/W Used | L3 B/W Used  | DRAM B/W Used |\n",
    "|:-------------------------------|:---------:|:-------------------:|:------------:|:-------------:|:---------:|:-----------------------:|:-----------:|:------------:|:-------------:|\n",
    "| 1                              |  100.0 %   |        1.6          |         7.9% |         41.3% |     12.5% |                1.09     |       29.7% |       16.4%  |       4.3%    |\n",
    "| 72                             |  100.0%   |       0.47          |         4.6% |         66.5% |     11.6% |                0.34     |       11.2% |       10.3%  |      11.1%    |\n",
    "\n"
   ]
  },
  {
   "cell_type": "markdown",
   "metadata": {},
   "source": [
    "---\n",
    "## HPC_sparsemv( )\n",
    "| HPC_sparsemv | CPUTIME % | Inst/Cycle per Core | L1 DC Miss % | L2 DC Miss %  | L3 Miss % | L1 Loads/Cycle per Core | L2 B/W Used | L3 B/W Used  | DRAM B/W Used |\n",
    "|:-----------------|:---------:|:-------------------:|:------------:|:-------------:|:---------:|:-----------------------:|:-----------:|:------------:|:-------------:|\n",
    "| 1                |  81.4 %   |        1.6          |         8.0% |         38.6% |     11.9% |                1.16     |       31.2% |       16.1%  |       4.0%    |\n",
    "| 72               |  65.4 %   |       0.45          |         8.9% |         66.3% |     10.4% |                0.24     |       15.0% |       13.8%  |      13.4%    |\n",
    "```c\n",
    "|66|int HPC_sparsemv( HPC_Sparse_Matrix *A,                  \n",
    "|67|\t\t const double * const x, double * const y)\n",
    "|68|{\n",
    "|69|\n",
    "|70|  const int nrow = (const int) A->local_nrow;\n",
    "|71|\n",
    "|72|#ifdef USING_OMP\n",
    "|73|#pragma omp parallel for\n",
    "|74|#endif\n",
    "|75|  for (int i=0; i< nrow; i++)\n",
    "|76|    {\n",
    "|77|      double sum = 0.0;\n",
    "|78|      const double * const cur_vals = \n",
    "|79|     (const double * const) A->ptr_to_vals_in_row[i];\n",
    "|80|\n",
    "|81|      const int    * const cur_inds = \n",
    "|82|     (const int    * const) A->ptr_to_inds_in_row[i];\n",
    "|83|\n",
    "|84|      const int cur_nnz = (const int) A->nnz_in_row[i];\n",
    "|85|\n",
    "|86|      for (int j=0; j< cur_nnz; j++)                    \n",
    "```\n",
    "| HPC_sparsemv.cpp: 87 | CPUTIME % | Inst/Cycle per Core | L1 DC Miss % | L2 DC Miss %  | L3 Miss % | L1 Loads/Cycle per Core | L2 B/W Used | L3 B/W Used  | DRAM B/W Used |\n",
    "|:---------------------|:---------:|:-------------------:|:------------:|:-------------:|:---------:|:-----------------------:|:-----------:|:------------:|:-------------:|\n",
    "| 1                    |  62.9 %   |        1.7          |         8.0% |         38.6% |     12.4% |                1.17     |       31.6% |       16.3%  |       4.3%    |\n",
    "| 72                   |  56.2 %   |       0.44          |         8.9% |         66.5% |     10.8% |                0.23     |       14.0% |       12.9%  |      13.1%    |\n",
    "```c\n",
    "|87|        sum += cur_vals[j]*x[cur_inds[j]];             \n",
    "|88|      y[i] = sum;\n",
    "|89|    }\n",
    "|90|  return(0);\n",
    "|91|}\n",
    "```"
   ]
  },
  {
   "cell_type": "markdown",
   "metadata": {
    "collapsed": true
   },
   "source": [
    "Time moved into Waxby?. TODO: Look into\n",
    "\n",
    "### Memory Latency Bound by Nested Index:  `x[cur_inds[j]]`"
   ]
  },
  {
   "cell_type": "code",
   "execution_count": null,
   "metadata": {},
   "outputs": [],
   "source": []
  },
  {
   "cell_type": "code",
   "execution_count": null,
   "metadata": {
    "collapsed": true
   },
   "outputs": [],
   "source": []
  }
 ],
 "metadata": {
  "kernelspec": {
   "display_name": "Python 3",
   "language": "python",
   "name": "python3"
  },
  "language_info": {
   "codemirror_mode": {
    "name": "ipython",
    "version": 3
   },
   "file_extension": ".py",
   "mimetype": "text/x-python",
   "name": "python",
   "nbconvert_exporter": "python",
   "pygments_lexer": "ipython3",
   "version": "3.6.2"
  }
 },
 "nbformat": 4,
 "nbformat_minor": 2
}
