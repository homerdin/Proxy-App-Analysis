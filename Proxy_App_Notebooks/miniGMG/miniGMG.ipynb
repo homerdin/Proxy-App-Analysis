{
 "cells": [
  {
   "cell_type": "markdown",
   "metadata": {
    "collapsed": true
   },
   "source": [
    "# miniGMG\n",
    "miniGMG is a compact benchmark for understanding the performance challenges associated with geometric multigrid solvers found in applications built from AMR MG frameworks like CHOMBO or BoxLib when running on modern multi- and manycore-based supercomputers.  It includes both productive reference examples as well as highly-optimized implementations for CPUs and GPUs.  It is sufficiently general that it has been used to evaluate a broad range of research topics including PGAS programming models and algorithmic tradeoffs inherit in multigrid.  \n",
    "\n",
    "    \n",
    "Note, miniGMG code has been supersceded by HPGMG."
   ]
  },
  {
   "cell_type": "markdown",
   "metadata": {},
   "source": [
    "---\n",
    "## Parameters\n",
    "```\n",
    "Compiler = icc (ICC) 18.0.1 20171018\n",
    "Compiler = clang 7.0.0\n",
    "Build_Flags = -g -O3 -march=native\n",
    "Run_Parameters = 8 2 2 2 1 1 1\n",
    "```"
   ]
  },
  {
   "cell_type": "markdown",
   "metadata": {
    "collapsed": true
   },
   "source": [
    "---\n",
    "## Scaling"
   ]
  },
  {
   "cell_type": "code",
   "execution_count": 1,
   "metadata": {
    "collapsed": true
   },
   "outputs": [],
   "source": [
    "import matplotlib\n",
    "import numpy as np\n",
    "import matplotlib.pyplot as plt\n",
    "%matplotlib inline"
   ]
  },
  {
   "cell_type": "code",
   "execution_count": 4,
   "metadata": {},
   "outputs": [
    {
     "data": {
      "image/png": "[encoded data removed]",
      "text/plain": [
       "<matplotlib.figure.Figure at 0x110294d30>"
      ]
     },
     "metadata": {},
     "output_type": "display_data"
    }
   ],
   "source": [
    "# Plot Measurements\n",
    "Threads = [1,2,4,8,16,32,56,112]\n",
    "fig, ax = plt.subplots(); ax.set_xscale('log', basex=2); ax.set_xticks(Threads)\n",
    "ax.get_xaxis().set_major_formatter(matplotlib.ticker.ScalarFormatter())\n",
    "ax.plot(Threads,[225.0, 123.0, 66.0, 38.75, 29.375, 30.53125, 32.14285714285714, 31.875],\n",
    "        label='Observed - Intel')\n",
    "ax.plot(Threads, [225.0, 112.5, 56.25, 28.125, 14.0625, 7.03125, 4.017857142857143, 2.0089285714285716],\n",
    "        label='Perfect - Intel')\n",
    "\n",
    "ax.plot(Threads,[526.0, 272.0, 140.0, 75.0, 45.4375, 38.125, 38.39285714285714, 36.07142857142858],\n",
    "        label='Observed - Clang')\n",
    "ax.plot(Threads, [526.0, 263.0, 131.5, 65.75, 32.875, 16.4375, 9.392857142857142, 4.696428571428571],\n",
    "        label='Perfect - Clang')\n",
    "\n",
    "ax.legend(); ax.set_xlabel('Threads'); ax.set_ylabel('Seconds')\n",
    "plt.show()"
   ]
  },
  {
   "cell_type": "markdown",
   "metadata": {
    "collapsed": true
   },
   "source": [
    "---\n",
    "## Roofline  -  Intel(R) Xeon(R) CPU E5-2699 v3 @ 2.30GHz Fix\n",
    "### 72 Threads - 36 - Cores 2300.0 Mhz  WRONG ONE RIGHT NOW Fix\n",
    "|     GB/sec     |  L1 B/W |  L2 B/W |  L3 B/W | DRAM B/W |\n",
    "|:---------------|:-------:|:-------:|:-------:|:--------:|\n",
    "|**1 Thread**    |  229.54 |  131.55 |    53.4 |    23.05 |\n",
    "|**56 Threads**  | 4965.38 | 3156.15 |  ?? |   174.23 |\n",
    "|**112 Threads** | 5007.03 | 3235.59 |  ?? |   179.26  |"
   ]
  },
  {
   "cell_type": "markdown",
   "metadata": {},
   "source": [
    "---\n",
    "## Intel Software Development Emulator \n",
    "| SDE Metrics | Intel | Clang |\n",
    "|:-----------|:---:|:---:|\n",
    "| **Arithmetic Intensity** | 0.13 | 0.11 |\n",
    "| **Bytes per Load Inst** | 17.94 | 7.91 |\n",
    "| **Bytes per Store Inst** | 9.31 | 7.71 |\n",
    "| **FLOPS per Inst** | 1.19 | 0.42 |"
   ]
  },
  {
   "cell_type": "markdown",
   "metadata": {},
   "source": [
    "---\n",
    "## Experiment Aggregate Metrics\n",
    " |Threads (Time)| IPC per Core | Loads per Cycle | L1 Hits per Cycle |  L1 Miss Ratio | L2 Miss Ratio | L3 Miss Ratio | L2 B/W Utilized | L3 B/W Utilized |DRAM B/W Utilized|OFFCORE => 6|\n",
    "|:---:|:---:|:---:|:---:|:---:|:---:|:---:|:---:|:---:|:---:|:---:|\n",
    "| **Intel** |\n",
    "|1 (100.0%)|0.78|0.39|0.33|20.64%|51.89%|79.55%|3.91%|9.03%|0.65%|95.01%|\n",
    "|56 (100.0%)|0.23|0.10|0.11|12.65%|55.63%|90.61%|1.61%|0.00%|1.26%|91.10%|\n",
    "|112 (100.0%)|0.71|0.14|0.08|17.80%|51.04%|89.96%|3.36%|0.00%|1.56%|92.81%|\n",
    "| **Clang** |\n",
    "|1 (100.0%)|1.88|0.77|0.84|4.40%|44.80%|61.10%|2.68%|5.73%|0.03%|54.34%|\n",
    "|56 (100.0%)|0.72|0.29|0.33|3.87%|51.52%|79.77%|2.13%|0.00%|0.56%|85.26%|\n",
    "|112 (100.0%)|1.70|0.34|0.19|7.37%|48.90%|84.67%|4.75%|0.00%|1.29%|87.85%|"
   ]
  },
  {
   "cell_type": "markdown",
   "metadata": {},
   "source": [
    "---\n",
    "### Jacobi\n",
    "```c\n",
    "  9 void smooth(domain_type * domain, int level, int phi_id, int rhs_id, double a, double b){\n",
    " 10   if(numSmooths&1){\n",
    " 11     printf(\"error - numSmooths must be even...\\n\");\n",
    " 12     exit(0);\n",
    " 13   }\n",
    " 14 \n",
    " 15   int CollaborativeThreadingBoxSize = 100000; // i.e. never\n",
    " 16   #ifdef __COLLABORATIVE_THREADING\n",
    " 17     CollaborativeThreadingBoxSize = 1 << __COLLABORATIVE_THREADING;\n",
    " 18   #endif\n",
    " 19   int omp_across_boxes = (domain->subdomains[0].levels[level].dim.i <  CollaborativeThreadingBoxSize);\n",
    " 20   int omp_within_a_box = (domain->subdomains[0].levels[level].dim.i >= CollaborativeThreadingBoxSize);\n",
    " 21 \n",
    " 22   int box,s;\n",
    " 23   int ghosts = domain->ghosts;\n",
    " 24   double TwoThirds = 2.0/3.0;\n",
    " 25 \n",
    " 26   // if communication-avoiding, need RHS for stencils in ghost zones\n",
    " 27   if(ghosts>1)exchange_boundary(domain,level,rhs_id,1,1,1);\n",
    " 28 \n",
    " 29   for(s=0;s<numSmooths;s+=ghosts){\n",
    " 30     // Jacobi ping pongs between phi and __temp\n",
    " 31     if((s&1)==0)exchange_boundary(domain,level,phi_id,1,ghosts>1,ghosts>1);  // corners/edges if doing communication-avoiding...\n",
    " 32            else exchange_boundary(domain,level,__temp,1,ghosts>1,ghosts>1);  // corners/edges if doing communication-avoiding...\n",
    " 33 \n",
    " 34     // now do ghosts communication-avoiding smooths on each box...\n",
    " 35     uint64_t _timeStart = CycleTime();\n",
    " 36 \n",
    " 37     #pragma omp parallel for private(box) if(omp_across_boxes)\n",
    " 38     for(box=0;box<domain->subdomains_per_rank;box++){\n",
    " 39       int i,j,k,ss;\n",
    " 40       int pencil = domain->subdomains[box].levels[level].pencil;\n",
    " 41       int  plane = domain->subdomains[box].levels[level].plane;\n",
    " 42       int ghosts = domain->subdomains[box].levels[level].ghosts;\n",
    " 43       int  dim_k = domain->subdomains[box].levels[level].dim.k;\n",
    " 44       int  dim_j = domain->subdomains[box].levels[level].dim.j;\n",
    " 45       int  dim_i = domain->subdomains[box].levels[level].dim.i;\n",
    " 46       double h2inv = 1.0/(domain->h[level]*domain->h[level]);\n",
    " 47       double * __restrict__ rhs    = domain->subdomains[box].levels[level].grids[  rhs_id] + ghosts*(1+pencil+plane);\n",
    " 48       double * __restrict__ alpha  = domain->subdomains[box].levels[level].grids[__alpha ] + ghosts*(1+pencil+plane);\n",
    " 49       double * __restrict__ beta_i = domain->subdomains[box].levels[level].grids[__beta_i] + ghosts*(1+pencil+plane);\n",
    " 50       double * __restrict__ beta_j = domain->subdomains[box].levels[level].grids[__beta_j] + ghosts*(1+pencil+plane);\n",
    " 51       double * __restrict__ beta_k = domain->subdomains[box].levels[level].grids[__beta_k] + ghosts*(1+pencil+plane);\n",
    " 52       double * __restrict__ lambda = domain->subdomains[box].levels[level].grids[__lambda] + ghosts*(1+pencil+plane);\n",
    " 53 \n",
    " 54       int ghostsToOperateOn=ghosts-1;\n",
    " 55       for(ss=s;ss<s+ghosts;ss++,ghostsToOperateOn--){\n",
    " 56         double * __restrict__ phi;\n",
    " 57         double * __restrict__ phi_new;\n",
    " 58               if((ss&1)==0){phi    = domain->subdomains[box].levels[level].grids[  phi_id] + ghosts*(1+pencil+plane);\n",
    " 59                             phi_new= domain->subdomains[box].levels[level].grids[  __temp] + ghosts*(1+pencil+plane);}\n",
    " 60                        else{phi    = domain->subdomains[box].levels[level].grids[  __temp] + ghosts*(1+pencil+plane);\n",
    " 61                             phi_new= domain->subdomains[box].levels[level].grids[  phi_id] + ghosts*(1+pencil+plane);}\n",
    " ```\n",
    " \n",
    "  |Threads (Time)| IPC per Core | Loads per Cycle | L1 Hits per Cycle |  L1 Miss Ratio | L2 Miss Ratio | L3 Miss Ratio | L2 B/W Utilized | L3 B/W Utilized |DRAM B/W Utilized|OFFCORE => 6|\n",
    "|:---:|:---:|:---:|:---:|:---:|:---:|:---:|:---:|:---:|:---:|:---:|\n",
    "| **Intel** |\n",
    "|1 (68.7%)|0.75|0.42|0.35|21.50%|50.89%|71.19%|4.30%|9.87%|0.31%|99.48%|\n",
    "|56 (55.6%)|0.14|0.08|0.07|22.17%|54.67%|89.16%|2.01%|0.00%|1.05%|99.01%|\n",
    "|112 (50.2)|0.33|0.08|0.02|48.36%|50.61%|90.37%|4.30%|0.00%|1.68%|97.28%|\n",
    "| **Clang** |\n",
    "|1 (41.2%)|1.90|1.14|1.12|5.90%|43.93%|27.18%|4.85%|10.43%|0.01%|99.29%|\n",
    "|56 (47.7%)|0.51|0.31|0.30|5.85%|51.33%|81.74%|3.04%|0.00%|0.78%|98.54%|\n",
    "|112 (44.5%)|1.05|0.33|0.15|12.59%|49.40%|87.57%|6.81%|0.00%|2.08%|96.68%|\n",
    " \n",
    " ```c\n",
    " 62         #pragma omp parallel for private(k,j,i) if(omp_within_a_box) collapse(2)\n",
    " 63         for(k=0-ghostsToOperateOn;k<dim_k+ghostsToOperateOn;k++){\n",
    " 64         for(j=0-ghostsToOperateOn;j<dim_j+ghostsToOperateOn;j++){\n",
    " 65         for(i=0-ghostsToOperateOn;i<dim_i+ghostsToOperateOn;i++){\n",
    " 66           int ijk = i + j*pencil + k*plane;\n",
    " 67           double helmholtz =  a*alpha[ijk]*phi[ijk]\n",
    " 68                              -b*h2inv*(\n",
    " 69                                 beta_i[ijk+1     ]*( phi[ijk+1     ]-phi[ijk       ] )\n",
    " 70                                -beta_i[ijk       ]*( phi[ijk       ]-phi[ijk-1     ] )\n",
    " 71                                +beta_j[ijk+pencil]*( phi[ijk+pencil]-phi[ijk       ] )\n",
    " 72                                -beta_j[ijk       ]*( phi[ijk       ]-phi[ijk-pencil] )\n",
    " 73                                +beta_k[ijk+plane ]*( phi[ijk+plane ]-phi[ijk       ] )\n",
    " 74                                -beta_k[ijk       ]*( phi[ijk       ]-phi[ijk-plane ] )\n",
    " 75                               );\n",
    " 76           phi_new[ijk] = phi[ijk] - TwoThirds*lambda[ijk]*(helmholtz-rhs[ijk]);\n",
    " 77         }}}\n",
    " 78       } // ss-loop\n",
    " 79     } // box-loop\n",
    " 80     domain->cycles.smooth[level] += (uint64_t)(CycleTime()-_timeStart);\n",
    " 81   } // s-loop\n",
    " 82 }\n",
    "\n",
    "```"
   ]
  },
  {
   "cell_type": "markdown",
   "metadata": {},
   "source": [
    "---\n",
    "### Residual\n",
    "```c\n",
    "  9 void residual(domain_type * domain, int level,  int res_id, int phi_id, int rhs_id, double a, double b){\n",
    " 10   // exchange the boundary for x in prep for Ax...\n",
    " 11   // for 7-point stencil, only needs to be a 1-deep ghost zone & faces only\n",
    " 12   exchange_boundary(domain,level,phi_id,1,0,0);\n",
    " 13 \n",
    " 14   // now do residual/restriction proper...\n",
    " 15   uint64_t _timeStart = CycleTime();\n",
    " 16   int CollaborativeThreadingBoxSize = 100000; // i.e. never\n",
    " 17   #ifdef __COLLABORATIVE_THREADING\n",
    " 18     CollaborativeThreadingBoxSize = 1 << __COLLABORATIVE_THREADING;\n",
    " 19   #endif\n",
    " 20   int omp_across_boxes = (domain->subdomains[0].levels[level].dim.i <  CollaborativeThreadingBoxSize);\n",
    " 21   int omp_within_a_box = (domain->subdomains[0].levels[level].dim.i >= CollaborativeThreadingBoxSize);\n",
    " 22   int box;\n",
    " 23 \n",
    " 24   #pragma omp parallel for private(box) if(omp_across_boxes)\n",
    " 25   for(box=0;box<domain->subdomains_per_rank;box++){\n",
    " 26     int i,j,k;\n",
    " 27     int pencil = domain->subdomains[box].levels[level].pencil;\n",
    " 28     int  plane = domain->subdomains[box].levels[level].plane;\n",
    " 29     int ghosts = domain->subdomains[box].levels[level].ghosts;\n",
    " 30     int  dim_k = domain->subdomains[box].levels[level].dim.k;\n",
    " 31     int  dim_j = domain->subdomains[box].levels[level].dim.j;\n",
    " 32     int  dim_i = domain->subdomains[box].levels[level].dim.i;\n",
    " 33     double h2inv = 1.0/(domain->h[level]*domain->h[level]);\n",
    " 34     double * __restrict__ phi    = domain->subdomains[box].levels[level].grids[  phi_id] + ghosts*(1+pencil+plane); // i.e. [0] = first non ghost zone point\n",
    " 35     double * __restrict__ rhs    = domain->subdomains[box].levels[level].grids[  rhs_id] + ghosts*(1+pencil+plane);\n",
    " 36     double * __restrict__ alpha  = domain->subdomains[box].levels[level].grids[__alpha ] + ghosts*(1+pencil+plane);\n",
    " 37     double * __restrict__ beta_i = domain->subdomains[box].levels[level].grids[__beta_i] + ghosts*(1+pencil+plane);\n",
    " 38     double * __restrict__ beta_j = domain->subdomains[box].levels[level].grids[__beta_j] + ghosts*(1+pencil+plane);\n",
    " 39     double * __restrict__ beta_k = domain->subdomains[box].levels[level].grids[__beta_k] + ghosts*(1+pencil+plane);\n",
    " 40     double * __restrict__ res    = domain->subdomains[box].levels[level].grids[  res_id] + ghosts*(1+pencil+plane);\n",
    " 41 \n",
    " ```\n",
    " \n",
    "   |Threads (Time)| IPC per Core | Loads per Cycle | L1 Hits per Cycle |  L1 Miss Ratio | L2 Miss Ratio | L3 Miss Ratio | L2 B/W Utilized | L3 B/W Utilized |DRAM B/W Utilized|OFFCORE => 6|\n",
    "|:---:|:---:|:---:|:---:|:---:|:---:|:---:|:---:|:---:|:---:|:---:|\n",
    "| **Intel** |\n",
    "|1 (14.3%)|0.85|0.42|0.34|21.93%|51.41%|68.72%|4.39%|10.03%|0.34%|99.38%|\n",
    "|56 (11.7%)|0.16|0.08|0.07|22.59%|54.78%|90.16%|2.05%|0.00%|1.25%|99.05%|\n",
    "|112 (10.7%)|0.35|0.08|0.02|49.80%|50.00%|90.58%|4.24%|0.00%|1.71%|97.38%|\n",
    "| **Clang** |\n",
    "|1 (8.2%)|2.08|1.20|1.18|6.16%|44.63%|18.46%|5.34%|11.77%|0.01%|99.06%|\n",
    "|56 (10.3%)|0.50|0.29|0.28|6.27%|51.03%|82.37%|3.06%|0.00%|0.86%|99.54%|\n",
    "|112 (9.6%)|1.03|0.31|0.14|13.42%|49.13%|87.67%|6.83%|0.00%|2.11%|96.99%|\n",
    " \n",
    " ```c\n",
    " 42     #pragma omp parallel for private(k,j,i) if(omp_within_a_box) collapse(2)\n",
    " 43     for(k=0;k<dim_k;k++){\n",
    " 44     for(j=0;j<dim_j;j++){\n",
    " 45     for(i=0;i<dim_i;i++){\n",
    " 46       int ijk = i + j*pencil + k*plane;\n",
    " 47       double helmholtz =  a*alpha[ijk]*phi[ijk]\n",
    " 48                          -b*h2inv*(\n",
    " 49                             beta_i[ijk+1     ]*( phi[ijk+1     ]-phi[ijk       ] )\n",
    " 50                            -beta_i[ijk       ]*( phi[ijk       ]-phi[ijk-1     ] )\n",
    " 51                            +beta_j[ijk+pencil]*( phi[ijk+pencil]-phi[ijk       ] )\n",
    " 52                            -beta_j[ijk       ]*( phi[ijk       ]-phi[ijk-pencil] )\n",
    " 53                            +beta_k[ijk+plane ]*( phi[ijk+plane ]-phi[ijk       ] )\n",
    " 54                            -beta_k[ijk       ]*( phi[ijk       ]-phi[ijk-plane ] )\n",
    " 55                           );\n",
    " 56       res[ijk] = rhs[ijk]-helmholtz;\n",
    " 57     }}}\n",
    " 58   }\n",
    " 59   domain->cycles.residual[level] += (uint64_t)(CycleTime()-_timeStart);\n",
    " 60 }\n",
    "```"
   ]
  },
  {
   "cell_type": "markdown",
   "metadata": {},
   "source": [
    "## Stencil - Latency Bound\n",
    "High miss rates"
   ]
  },
  {
   "cell_type": "markdown",
   "metadata": {},
   "source": []
  }
 ],
 "metadata": {
  "kernelspec": {
   "display_name": "Python 3",
   "language": "python",
   "name": "python3"
  },
  "language_info": {
   "codemirror_mode": {
    "name": "ipython",
    "version": 3
   },
   "file_extension": ".py",
   "mimetype": "text/x-python",
   "name": "python",
   "nbconvert_exporter": "python",
   "pygments_lexer": "ipython3",
   "version": "3.6.2"
  }
 },
 "nbformat": 4,
 "nbformat_minor": 2
}
