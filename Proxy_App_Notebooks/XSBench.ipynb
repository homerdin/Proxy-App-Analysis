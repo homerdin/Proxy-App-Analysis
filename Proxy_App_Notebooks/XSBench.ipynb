{
 "cells": [
  {
   "cell_type": "markdown",
   "metadata": {
    "collapsed": true
   },
   "source": [
    "# XSBench\n",
    "## Parameters\n",
    "```\n",
    "Compiler = 'clang 5.0.1'\n",
    "Build_Flags = '-g -O3 -march=native -fopenmp -lm'\n",
    "Run_Flags = '-t <# of threads> -l 30000000'\n",
    "```"
   ]
  },
  {
   "cell_type": "markdown",
   "metadata": {},
   "source": [
    "---\n",
    "## Scaling"
   ]
  },
  {
   "cell_type": "code",
   "execution_count": 1,
   "metadata": {
    "collapsed": true
   },
   "outputs": [],
   "source": [
    "import matplotlib\n",
    "import numpy as np\n",
    "import matplotlib.pyplot as plt\n",
    "%matplotlib inline"
   ]
  },
  {
   "cell_type": "code",
   "execution_count": 4,
   "metadata": {},
   "outputs": [
    {
     "data": {
      "image/png": "[encoded data removed]",
      "text/plain": [
       "<matplotlib.figure.Figure at 0x10a72e048>"
      ]
     },
     "metadata": {},
     "output_type": "display_data"
    }
   ],
   "source": [
    "# Plot Measurements\n",
    "Threads = [1,2,4,8,18,36,72]\n",
    "fig, ax = plt.subplots(); ax.set_xscale('log', basex=2); ax.set_xticks(Threads)\n",
    "ax.get_xaxis().set_major_formatter(matplotlib.ticker.ScalarFormatter())\n",
    "ax.plot(Threads, [260.0, 149.5, 79.25, 41.375, 21.166666666666668, 14.722222222222221, 12.027777777777779],\n",
    "        label='Observed Scaling')\n",
    "ax.plot(Threads, [260.0, 130.0, 65.0, 32.5, 14.444444444444445, 7.222222222222222, 3.611111111111111],\n",
    "        label='Perfect Scaling')\n",
    "ax.legend(); ax.set_xlabel('Threads'); ax.set_ylabel('Seconds')\n",
    "plt.show()"
   ]
  },
  {
   "cell_type": "markdown",
   "metadata": {},
   "source": [
    "---\n",
    "## Roofline - Intel Haswell - 72 Threads - 36 Cores - 2 Sockets - 2301.0 Mhz\n",
    "| GB/sec | L1 B/W | L2 B/W | L3 B/W | DRAM B/W |\n",
    "|:---------|:------:|:------:|:------:|:--------:|\n",
    "| **1 Thread**   | 142.7  |  45.0  |  33.7  |   16.0   |\n",
    "|**72 Threads**  | 2399.9  |  784.0  |  564.8  |   60.4  |"
   ]
  },
  {
   "cell_type": "markdown",
   "metadata": {
    "collapsed": true
   },
   "source": [
    "---\n",
    "## Program Aggregate\n",
    "| Experiment Aggregate Metrics | CPUTIME % | Inst/Cycle per Core | L1 DC Miss % | L2 DC Miss %  | L3 Miss % | L1 Loads/Cycle per Core | L2 B/W Used | L3 B/W Used  | DRAM B/W Used |\n",
    "|:-----------------------------|:---------:|:-------------------:|:------------:|:-------------:|:---------:|:-----------------------:|:-----------:|:------------:|:-------------:|\n",
    "| 1                            |  100.0 %   |       0.67          |        27.2% |         89.0% |     12.2% |                0.11     |       14.7% |       17.5%  |       4.5%    |\n",
    "| 72                           |  100.0 %   |       0.42          |        27.2% |         92.0% |     11.6% |                0.06     |       17.6% |       22.5%  |      24.3%    |"
   ]
  },
  {
   "cell_type": "markdown",
   "metadata": {},
   "source": [
    "---\n",
    "## binary_search ( )\n",
    "| binary_search | CPUTIME % | Inst/Cycle per Core | L1 DC Miss % | L2 DC Miss %  | L3 Miss % | L1 Loads/Cycle per Core | L2 B/W Used | L3 B/W Used  | DRAM B/W Used |\n",
    "|:--------------|:---------:|:-------------------:|:------------:|:-------------:|:---------:|:-----------------------:|:-----------:|:------------:|:-------------:|\n",
    "| 1             |  63.3 %   |       0.79          |        57.2% |         89.2% |      0.0% |                0.04     |       17.9% |       21.3%  |       0.0%    |\n",
    "| 72            |  32.7 %   |       0.85          |        75.8% |         92.8% |      0.0% |                0.02     |       41.9% |       54.0%  |       0.0%    |\n",
    "```c\n",
    "|44|// Binary Search function for nuclide grid\n",
    "|45|// Returns ptr to energy less than the quarry that is closest to the quarry\n",
    "|46|int binary_search( NuclideGridPoint * A, double quarry, int n )\n",
    "|47|{       \n",
    "|48|\tint min = 0;\n",
    "|49|\tint max = n-1;\n",
    "|50|\tint mid;\n",
    "|51|\t\n",
    "|52|\t// checks to ensure we're not reading off the end of the grid\n",
    "|53|\tif( A[0].energy > quarry )                          \n",
    "|54|\t\treturn 0;\n",
    "|55|\telse if( A[n-1].energy < quarry )\n",
    "|56|\t\treturn n-2;\n",
    "|57|\n",
    "|58|\t// Begins binary search\t\n",
    "|59|\twhile( max >= min )\n",
    "|60|\t{    \n",
    "|61|        \tmid = min + floor( (max-min) / 2.0);\n",
    "|62|\t\tif( A[mid].energy < quarry )   \n",
    "|63|\t\t\tmin = mid+1;\n",
    "|64|\t\telse if( A[mid].energy > quarry )\n",
    "|65|\t\t\tmax = mid-1;\n",
    "|66|\t\telse\n",
    "|67|\t\t\treturn mid;\n",
    "|68|\t}\n",
    "|69|       \treturn max;\n",
    "|70|}\n",
    "```\n"
   ]
  },
  {
   "cell_type": "markdown",
   "metadata": {},
   "source": [
    "---\n",
    "## calculate_micro_xs ( )\n",
    "| calculate_micro_xs | CPUTIME % | Inst/Cycle per Core | L1 DC Miss % | L2 DC Miss %  | L3 Miss % | L1 Loads/Cycle per Core | L2 B/W Used | L3 B/W Used  | DRAM B/W Used |\n",
    "|:-------------------|:---------:|:-------------------:|:------------:|:-------------:|:---------:|:-----------------------:|:-----------:|:------------:|:-------------:|\n",
    "| 1                  |  22.2 %   |       0.42          |         6.7% |         98.6% |     77.7% |                0.27     |        8.0% |       10.6%  |      17.3%    |\n",
    "| 72                 |  54.2 %   |       0.12          |         9.6% |         93.8% |     68.8% |                0.05     |        4.9% |        6.4%  |      41.1%    |\n",
    "```c\n",
    "  3 // Calculates the microscopic cross section for a given nuclide & energy\n",
    "  4 void calculate_micro_xs(   double p_energy, int nuc, long n_isotopes,\n",
    "  5                            long n_gridpoints,\n",
    "  6                            GridPoint * restrict energy_grid,\n",
    "  7                            NuclideGridPoint ** restrict nuclide_grids,\n",
    "  8                            long idx, double * restrict xs_vector, int grid_type ){\n",
    "  9 \n",
    " 10         // Variables\n",
    " 11         double f;\n",
    " 12         NuclideGridPoint * low, * high;\n",
    " 13 \n",
    " 14         // If using only the nuclide grid, we must perform a binary search\n",
    " 15         // to find the energy location in this particular nuclide's grid.\n",
    " 16         if( grid_type == NUCLIDE )\n",
    " 17         {\n",
    " 18                 // Perform binary search on the Nuclide Grid to find the index\n",
    " 19                 idx = grid_search_nuclide( n_gridpoints, p_energy, nuclide_grids[nuc]);\n",
    " 20 \n",
    " 21                 // pull ptr from nuclide grid and check to ensure that\n",
    " 22                 // we're not reading off the end of the nuclide's grid\n",
    " 23                 if( idx == n_gridpoints - 1 )\n",
    " 24                         low = &nuclide_grids[nuc][idx - 1];\n",
    " 25                 else\n",
    " 26                         low = &nuclide_grids[nuc][idx];\n",
    " 27         }\n",
    " 28         else // Unionized Energy Grid - we already know the index, no binary search needed.\n",
    " 29         {\n",
    " 30                 // pull ptr from energy grid and check to ensure that\n",
    " 31                 // we're not reading off the end of the nuclide's grid\n",
    " 32                 if( energy_grid[idx].xs_ptrs[nuc] == n_gridpoints - 1 )\n",
    " 33                         low = &nuclide_grids[nuc][energy_grid[idx].xs_ptrs[nuc] - 1];\n",
    " 34                 else\n",
    " 35                         low = &nuclide_grids[nuc][energy_grid[idx].xs_ptrs[nuc]];\n",
    " 36         }\n",
    " 37 \n",
    " 38         high = low + 1;\n",
    " 39 \n",
    " 40         // calculate the re-useable interpolation factor\n",
    " 41         f = (high->energy - p_energy) / (high->energy - low->energy);\n",
    " 42 \n",
    " 43         // Total XS\n",
    " 44         xs_vector[0] = high->total_xs - f * (high->total_xs - low->total_xs);\n",
    " 45 \n",
    " 46         // Elastic XS\n",
    " 47         xs_vector[1] = high->elastic_xs - f * (high->elastic_xs - low->elastic_xs);\n",
    " 48 \n",
    " 49         // Absorbtion XS\n",
    " 50         xs_vector[2] = high->absorbtion_xs - f * (high->absorbtion_xs - low->absorbtion_xs);\n",
    " 51 \n",
    " 52         // Fission XS\n",
    " 53         xs_vector[3] = high->fission_xs - f * (high->fission_xs - low->fission_xs);\n",
    " 54 \n",
    " 55         // Nu Fission XS\n",
    " 56         xs_vector[4] = high->nu_fission_xs - f * (high->nu_fission_xs - low->nu_fission_xs);\n",
    "            (...)\n",
    " 69 }\n",
    "```"
   ]
  },
  {
   "cell_type": "code",
   "execution_count": null,
   "metadata": {
    "collapsed": true
   },
   "outputs": [],
   "source": []
  }
 ],
 "metadata": {
  "kernelspec": {
   "display_name": "Python 3",
   "language": "python",
   "name": "python3"
  },
  "language_info": {
   "codemirror_mode": {
    "name": "ipython",
    "version": 3
   },
   "file_extension": ".py",
   "mimetype": "text/x-python",
   "name": "python",
   "nbconvert_exporter": "python",
   "pygments_lexer": "ipython3",
   "version": "3.6.2"
  }
 },
 "nbformat": 4,
 "nbformat_minor": 2
}
