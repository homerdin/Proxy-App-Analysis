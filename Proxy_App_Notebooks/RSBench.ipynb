{
 "cells": [
  {
   "cell_type": "markdown",
   "metadata": {
    "collapsed": true
   },
   "source": [
    "## RSBench\n",
    "A mini-app to represent the multipole resonance representation lookup\n",
    "cross section algorithm.  \n",
    "  \n",
    "  ---\n",
    "clang++-5.0.1 -std=gnu99 -fopenmp -ffast-math -march=native-g -Ofast  \n",
    "  \n",
    "Exec Line:  \n",
    "./rsbench\n",
    "\n",
    "(**Haswell**) Intel(R) Xeon(R) CPU E5-2699 v3 @ 2.30GHz  \n",
    "\n",
    "`divsd`: 10-20 Cycles  \n",
    "`mulsd`: 5 Cycles  \n",
    "`movsd`: 3 Cycles  \n",
    "L1 Cache: 32 kB, 8 way, 64 sets, 64 B line size, **latency 4**, per core.    \n",
    "L2 Cache: 256 kB, 8 way, 512 sets, 64 B line size, **latency 12**, per core.  \n",
    "Data from Agner\n",
    "\n",
    "| Empirical Roofline Toolkit | L1 Cache | L2 Cache | L3 Cache | DRAM |\n",
    "|:---|:------:|:--------:|:----------:|:-----|\n",
    "|Cache Lines / Cycle | .9715 | .3050 | 0.2188 | 0.1067 |"
   ]
  },
  {
   "cell_type": "markdown",
   "metadata": {},
   "source": [
    "---\n",
    "### RSBench spends around 50% of CPUTIME in libm\n",
    "| Math Call | CPUTIME|\n",
    "|:----|:---:|\n",
    "| `__ieee754_hypot `| 16.8%  |\n",
    "  |`__sin_avx`| 10.3%  \n",
    "  | `__atan_avx`| 10.4%  \n",
    "  | `__cos_avx`| 5.7  \n",
    "  | `__hypot`| 3.5%  |\n",
    "  |`__sincos`| 1.3%|\n",
    "\n",
    "#### calculate_micro_xs_dopper( ) | Loop at line 181\n",
    "calculate_micro_xs_doppler( ) calls calculate_sig_T then calls fast_nuclear_W( ) in loop.\n",
    "\n",
    "|`for ( ) : Line 181`|  CPUTIME  | Inst per Cycle | L1 DC Miss % |  L1 Loads/Cycle |\n",
    "|:---|:---:|:---:|:---:|:---:|:---:|:---:|\n",
    "| **Serial Run** | 12.3% | 0.66 | 1.4% | 0.33 |\n",
    "|**72 Thread Run** | 10.3% | 1.28 | 4.4% | 1.67 |\n",
    "```c\n",
    "\t// Loop over Poles within window, add contributions                 \n",
    "|181|\tfor( int i = w.start; i < w.end; i++ )                      \n",
    "|182|   {\n",
    "|183|\t    Pole pole = data.poles[nuc][i];                              \n",
    "|184|\n",
    "|185|\t    // Prep Z\n",
    "|186|\t    double complex Z = (E - pole.MP_EA) * dopp;\n",
    "|187|\t    if( cabs(Z) < 6.0 )\n",
    "|188|\t\t    (*abrarov)++;\n",
    "|189|\t    (*alls)++;\n",
    "|190|\n",
    "|191|\t    // Evaluate Fadeeva Function\n",
    "|192|\t    complex double faddeeva = fast_nuclear_W( Z );\n",
    "|193|\n",
    "|194|\t    // Update W\n",
    "|195|\t    sigT += creal( pole.MP_RT * faddeeva * sigTfactors[pole.l_value] );\n",
    "|196|\t    sigA += creal( pole.MP_RA * faddeeva);\n",
    "|197|\t    sigF += creal( pole.MP_RF * faddeeva);\n",
    "|198|   }\n",
    "```\n",
    "\n",
    "---\n",
    "\n",
    "#### calculate_sig_T (Time spent in libm)\n",
    "\n",
    "|`calculate_sig_T`|  CPUTIME  | Inst per Cycle | L1 DC Miss % |  L1 Loads/Cycle |\n",
    "|:---|:---:|:---:|:---:|:---:|:---:|:---:|\n",
    "| **Serial Run** | 29.7%(I) | 1.18 | 0.5% | 0.57 |\n",
    "|**72 Thread Run** | 27.0%(I) | 1.82 | 2.5% | 1.09 |\n",
    "```c\n",
    "|208|void calculate_sig_T( int nuc, double E, Input input, CalcDataPtrs data, complex double * sigTfactors )\n",
    "|209|{\n",
    "|210|\tdouble phi;\n",
    "|211|\n",
    "|212|\tfor( int i = 0; i < input.numL; i++ )\n",
    "|213|\t{\n",
    "|214|\t\tphi = data.pseudo_K0RS[nuc][i] * sqrt(E);\n",
    "|215|\n",
    "|216|\t\tif( i == 1 )\n",
    "|217|\t\t\tphi -= - atan( phi );\n",
    "|218|\t\telse if( i == 2 )\n",
    "|219|\t\t\tphi -= atan( 3.0 * phi / (3.0 - phi*phi));\n",
    "|220|\t\telse if( i == 3 )\n",
    "|221|\t\t\tphi -= atan(phi*(15.0-phi*phi)/(15.0-6.0*phi*phi));\n",
    "|222|\n",
    "|223|\t\tphi *= 2.0;\n",
    "|224|\n",
    "|225|\t\tsigTfactors[i] = cos(phi) - sin(phi) * _Complex_I;\n",
    "|226|\t}\n",
    "|227|}\n",
    "```\n",
    "\n",
    "---\n",
    "#### fast_nuclear_W\n",
    "\"This function uses a combination of the Abrarov Approximation\n",
    "and the QUICK_W three term asymptotic expansion.\n",
    "Only expected to use Abrarov ~0.5% of the time.\"\n",
    "  \n",
    "Function defines several hard coded values and spends most time on line 72:\n",
    "\n",
    "|`Line 72`|  CPUTIME  | Inst per Cycle | L1 DC Miss % |  L1 Loads/Cycle |\n",
    "|:---|:---:|:---:|:---:|:---:|:---:|:---:|\n",
    "| **Serial Run** | 7.4% | 0.64| 6.1% | 0.1 |\n",
    "|**72 Thread Run** | 4.0% | 0.41 | 2.9% | < 0.1 | \n",
    "```c\n",
    "|72| double complex W = I * Z * (a/(Z*Z - b) + c/(Z*Z - d));  \n",
    "```"
   ]
  },
  {
   "cell_type": "markdown",
   "metadata": {},
   "source": [
    "---\n",
    "### Strong Scaling "
   ]
  },
  {
   "cell_type": "code",
   "execution_count": 2,
   "metadata": {
    "collapsed": true
   },
   "outputs": [],
   "source": [
    "import matplotlib\n",
    "import matplotlib.pyplot as plt\n",
    "\n",
    "%matplotlib inline"
   ]
  },
  {
   "cell_type": "code",
   "execution_count": 3,
   "metadata": {},
   "outputs": [
    {
     "data": {
      "image/png": "[encoded data removed]",
      "text/plain": [
       "<matplotlib.figure.Figure at 0x1084e49e8>"
      ]
     },
     "metadata": {},
     "output_type": "display_data"
    }
   ],
   "source": [
    "\n",
    "fig,ax = plt.subplots()\n",
    "ax.set_xscale('log', basex=2)\n",
    "ax.set_yscale('log', basey=10)\n",
    "ax.set_xlabel('Threads')\n",
    "ax.set_ylabel('Time (Secs) log10 Scale')\n",
    "ax.set_xticks([1,2,4,8,16,32,64])\n",
    "ax.get_xaxis().set_major_formatter(matplotlib.ticker.ScalarFormatter())\n",
    "ax.set_yticks([100, 1000])\n",
    "ax.get_yaxis().set_major_formatter(matplotlib.ticker.ScalarFormatter())\n",
    "\n",
    "ax.plot([1,2,4,8,16,32,64,72], [661.467, 335.291, 167.043, 84.171, 42.287, 21.671, 15.701, 14.817])\n",
    "plt.show()"
   ]
  },
  {
   "cell_type": "code",
   "execution_count": null,
   "metadata": {
    "collapsed": true
   },
   "outputs": [],
   "source": []
  }
 ],
 "metadata": {
  "kernelspec": {
   "display_name": "Python 3",
   "language": "python",
   "name": "python3"
  },
  "language_info": {
   "codemirror_mode": {
    "name": "ipython",
    "version": 3
   },
   "file_extension": ".py",
   "mimetype": "text/x-python",
   "name": "python",
   "nbconvert_exporter": "python",
   "pygments_lexer": "ipython3",
   "version": "3.6.2"
  }
 },
 "nbformat": 4,
 "nbformat_minor": 2
}
