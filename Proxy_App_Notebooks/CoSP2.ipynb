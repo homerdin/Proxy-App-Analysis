{
 "cells": [
  {
   "cell_type": "markdown",
   "metadata": {},
   "source": [
    "# CoSP2\n",
    "CoSP2 is a reference implementation of typical linear algebra\n",
    "algorithms and workloads for a quantum molecular dynamics (QMD)\n",
    "electronic structure code. The algorithm is based on a recursive\n",
    "second-order Fermi-Operator expansion method (SP2) and is tailored\n",
    "for density functional based tight-binding calculations of non-metallic\n",
    "material systems. This SP2 algorithm is part of the Los Alamos\n",
    "Transferable Tight-binding for Energetics (LATTE) code, based on\n",
    "a matrix expansion of the Fermi operator in a recursive series\n",
    "of generalized matrix-matrix multiplications."
   ]
  },
  {
   "cell_type": "markdown",
   "metadata": {},
   "source": [
    "---\n",
    "## Parameters\n",
    "```\n",
    "Compiler = 'clang 5.0.1'\n",
    "Build_Flags = '-std=c99 -fopenmp -DPOS1 -g -O3 -march=native -lm'\n",
    "Run_Parameters = '--hmatName data/hmatrix.1024.mtx --N 12288 --M 256'\n",
    "```"
   ]
  },
  {
   "cell_type": "markdown",
   "metadata": {},
   "source": [
    "---\n",
    "## Scaling"
   ]
  },
  {
   "cell_type": "code",
   "execution_count": 1,
   "metadata": {
    "collapsed": true
   },
   "outputs": [],
   "source": [
    "import matplotlib\n",
    "import numpy as np\n",
    "import matplotlib.pyplot as plt\n",
    "%matplotlib inline"
   ]
  },
  {
   "cell_type": "code",
   "execution_count": 2,
   "metadata": {},
   "outputs": [
    {
     "data": {
      "image/png": "[encoded data removed]",
      "text/plain": [
       "<matplotlib.figure.Figure at 0x106aaca58>"
      ]
     },
     "metadata": {},
     "output_type": "display_data"
    }
   ],
   "source": [
    "# Plot Measurements\n",
    "Threads = [1,2,4,8,18,36,72]\n",
    "fig, ax = plt.subplots(); ax.set_xscale('log', basex=2); ax.set_xticks(Threads)\n",
    "ax.get_xaxis().set_major_formatter(matplotlib.ticker.ScalarFormatter())\n",
    "ax.plot(Threads,[4.5, 2.515, 1.4125, 0.9125, 0.6, 0.5277777777777778, 0.6958333333333334],\n",
    "        label='Observed Scaling')\n",
    "ax.plot(Threads, [4.5, 2.25, 1.125, 0.5625, 0.25, 0.125, 0.0625],\n",
    "        label='Perfect Scaling')\n",
    "ax.legend(); ax.set_xlabel('Threads'); ax.set_ylabel('Seconds')\n",
    "plt.show()"
   ]
  },
  {
   "cell_type": "markdown",
   "metadata": {},
   "source": [
    "---\n",
    "## Roofline - Intel Haswell - 72 Threads - 36 Cores - 2 Sockets - 2301.0 Mhz\n",
    "| GB/sec | L1 B/W | L2 B/W | L3 B/W | DRAM B/W |\n",
    "|:---------|:------:|:------:|:------:|:--------:|\n",
    "| **1 Thread**   | 142.7  |  45.0  |  33.7  |   16.0   |\n",
    "|**72 Threads**  | 2399.9  |  784.0  |  564.8  |   60.4  |"
   ]
  },
  {
   "cell_type": "markdown",
   "metadata": {},
   "source": [
    "---\n",
    "## Program Aggregate\n",
    "| Experiment Aggregate Metrics | CPUTIME % | Inst/Cycle per Core | L1 DC Miss % | L2 DC Miss %  | L3 Miss % | L1 Loads/Cycle per Core | L2 B/W Used | L3 B/W Used  | DRAM B/W Used |\n",
    "|:-----------------------------|:---------:|:-------------------:|:------------:|:-------------:|:---------:|:-----------------------:|:-----------:|:------------:|:-------------:|\n",
    "| 1                            |  100.0 %   |        1.6          |         4.7% |         21.3% |      4.7% |                1.23     |       23.4% |        6.6%  |       0.7%    |\n",
    "| 72                           |  100.0 %   |       0.99          |         2.3% |         24.9% |      0.0% |                0.35     |        6.2% |        2.1%  |       0.0%    |"
   ]
  },
  {
   "cell_type": "markdown",
   "metadata": {},
   "source": [
    "## sparseX2( )\n",
    "| sparseX2 | CPUTIME % | Inst/Cycle per Core | L1 DC Miss % | L2 DC Miss %  | L3 Miss % | L1 Loads/Cycle per Core | L2 B/W Used | L3 B/W Used  | DRAM B/W Used |\n",
    "|:---------------|:---------:|:-------------------:|:------------:|:-------------:|:---------:|:-----------------------:|:-----------:|:------------:|:-------------:|\n",
    "| 1              |  92.9 %   |        1.6          |         4.8% |         21.3% |      1.2% |                1.28     |       24.6% |        7.0%  |       0.2%    |\n",
    "| 72             |  26.9 %   |        1.8          |         4.8% |         24.9% |      0.0% |                0.58     |       22.9% |        7.9%  |       0.0%    |\n",
    "\n",
    "```c\n",
    " 15 // \\details\n",
    " 16 // Sparse matrix multiply X^2\n",
    " 17 void sparseX2(real_t* trX, real_t* trX2, struct SparseMatrixSt* xmatrix, struct SparseMatrixSt* x2matrix, struct DomainSt* domain)\n",
    " 18 {\n",
    " 19   int hsize = xmatrix->hsize;\n",
    " 20   int ix[hsize];\n",
    " 21   real_t x[hsize];\n",
    " 22   real_t traceX = ZERO;\n",
    " 23   real_t traceX2 = ZERO;\n",
    " 24 \n",
    " 25   memset(ix, 0, hsize*sizeof(int));\n",
    " 26   memset(x, ZERO, hsize*sizeof(real_t));\n",
    " 27 \n",
    " 28   #pragma omp parallel for firstprivate(ix,x) reduction(+:traceX,traceX2)\n",
    " 29   for(int i = domain->localRowMin; i < domain->localRowMax; i++)\n",
    " 30   // CALCULATES THRESHOLDED X^2\n",
    " 31   {\n",
    " 32     int l = 0;\n",
    " 33     for(int jp = 0; jp < xmatrix->iia[i]; jp++)\n",
    " 34     {\n",
    " 35       real_t a = xmatrix->val[i][jp];\n",
    " 36       int j = xmatrix->jja[i][jp];\n",
    " 37       if (j == i)\n",
    " 38       {\n",
    " 39         traceX += a;\n",
    " 40       }\n",
    " ```\n",
    " | loop at sparseMath.c: 41 | CPUTIME % | Inst/Cycle per Core | L1 DC Miss % | L2 DC Miss %  | L3 Miss % | L1 Loads/Cycle per Core | L2 B/W Used | L3 B/W Used  | DRAM B/W Used |\n",
    "|:-------------------------|:---------:|:-------------------:|:------------:|:-------------:|:---------:|:-----------------------:|:-----------:|:------------:|:-------------:|\n",
    "| 1                        |  86.0 %   |        1.6          |         5.0% |         21.3% |      1.3% |                1.28     |       25.3% |        7.2%  |       0.2%    |\n",
    "| 72                       |  24.6 %   |        1.8          |         4.8% |         24.8% |      0.0% |                0.60     |       23.3% |        8.0%  |       0.0%    |\n",
    " ```c\n",
    " 41       for(int kp = 0; kp < xmatrix->iia[j]; kp++)\n",
    " 42       {\n",
    " 43         int k = xmatrix->jja[j][kp];\n",
    " 44         if (ix[k] == 0)\n",
    " 45         {\n",
    " 46           x[k] = ZERO;\n",
    " 47           x2matrix->jja[i][l] = k;\n",
    " 48           ix[k] = i+1;\n",
    " 49           l++;\n",
    " 50         }\n",
    " 51         x[k] = x[k] + a * xmatrix->val[j][kp]; // TEMPORARY STORAGE VECTOR LENGTH FULL N\n",
    " 52       }\n",
    " 53     }\n",
    " 54 \n",
    " 55     int ll = 0;\n",
    " 56     for(int j = 0; j < l; j++)\n",
    " 57     {\n",
    " 58       int jp = x2matrix->jja[i][j];\n",
    " 59       real_t xtmp = x[jp];\n",
    " 60       if (jp == i)\n",
    " 61       {\n",
    " 62         traceX2 += xtmp;\n",
    " 63         x2matrix->val[i][ll] = xtmp;\n",
    " 64         x2matrix->jja[i][ll] = jp;\n",
    " 65         ll++;\n",
    " 66       }\n",
    " 67       else if(ABS(xtmp) > eps)\n",
    " 68       {\n",
    " 69         x2matrix->val[i][ll] = xtmp;\n",
    " 70         x2matrix->jja[i][ll] = jp;\n",
    " 71         ll++;\n",
    " 72       }\n",
    " 73       ix[jp] = 0;\n",
    " 74       x[jp] = ZERO;\n",
    " 75     }\n",
    " 76     x2matrix->iia[i] = ll;\n",
    " 77   }\n",
    " 78 \n",
    " 79   *trX = traceX;\n",
    " 80   *trX2 = traceX2;\n",
    " 81 \n",
    " 82 }\n",
    "```\n"
   ]
  },
  {
   "cell_type": "markdown",
   "metadata": {},
   "source": [
    "Significant amount of time spent on thread barriers in openMP library.  Hyper-Threading having a negative affect on runtime.  \n",
    "*TODO: Look into Threaded Performance without Hyper-Threading*"
   ]
  },
  {
   "cell_type": "markdown",
   "metadata": {
    "collapsed": true
   },
   "source": [
    "schedule(dynamic) bumped to 35.8%, schedule(guided) bumped to 35.5%"
   ]
  },
  {
   "cell_type": "code",
   "execution_count": null,
   "metadata": {
    "collapsed": true
   },
   "outputs": [],
   "source": []
  }
 ],
 "metadata": {
  "kernelspec": {
   "display_name": "Python 3",
   "language": "python",
   "name": "python3"
  },
  "language_info": {
   "codemirror_mode": {
    "name": "ipython",
    "version": 3
   },
   "file_extension": ".py",
   "mimetype": "text/x-python",
   "name": "python",
   "nbconvert_exporter": "python",
   "pygments_lexer": "ipython3",
   "version": "3.6.2"
  }
 },
 "nbformat": 4,
 "nbformat_minor": 2
}
