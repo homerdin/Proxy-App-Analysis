{
 "cells": [
  {
   "cell_type": "markdown",
   "metadata": {},
   "source": [
    "# miniXyce\n",
    "miniXyce is a simple linear circuit simulator with a \n",
    "basic parser that performs transient analysis on any circuit with\n",
    "resistors (R), inductors (L), capacitors (C), and voltage/current \n",
    "sources.  The parser incorporated into this version of miniXyce is a\n",
    "single pass parser, where the netlist is expected to be flat \n",
    "(no hierarchy via subcircuits is allowed). Simulating the system of \n",
    "DAEs generates a nonsymmetric linear problem, which is solved using \n",
    "un-preconditioned GMRES. The time integration method used in miniXyce \n",
    "is backward Euler with a constant time-step.  The simulator outputs\n",
    "all the solution variables at each time step in a 'prn' file.\n",
    "  \n",
    "  \n",
    "The development of the first version of miniXyce resulted in something\n",
    "closer to a compact application than a miniapp since more focus was put \n",
    "on the simulator returning the correct answer, than modeling performance \n",
    "characteristics of interest.\n",
    "\n",
    "\n",
    "### NOTE: Run time on all supplied tests too minimal for performance analysis"
   ]
  },
  {
   "cell_type": "markdown",
   "metadata": {},
   "source": [
    "---\n",
    "## Intel Software Development Emulator \n",
    "| SDE Metrics | miniXyce |\n",
    "|:-----------|:---:|\n",
    "| **Arithmetic Intensity** | 0.003 |\n",
    "| **Bytes per Load Inst** | 6.87 |\n",
    "| **Bytes per Store Inst** | 7.29 |"
   ]
  }
 ],
 "metadata": {
  "kernelspec": {
   "display_name": "Python 3",
   "language": "python",
   "name": "python3"
  },
  "language_info": {
   "codemirror_mode": {
    "name": "ipython",
    "version": 3
   },
   "file_extension": ".py",
   "mimetype": "text/x-python",
   "name": "python",
   "nbconvert_exporter": "python",
   "pygments_lexer": "ipython3",
   "version": "3.6.2"
  }
 },
 "nbformat": 4,
 "nbformat_minor": 2
}
