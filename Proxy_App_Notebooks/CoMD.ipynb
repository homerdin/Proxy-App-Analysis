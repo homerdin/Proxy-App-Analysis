{
 "cells": [
  {
   "cell_type": "markdown",
   "metadata": {},
   "source": [
    "# CoMD\n"
   ]
  },
  {
   "cell_type": "markdown",
   "metadata": {},
   "source": [
    "---\n",
    "## Parameters\n",
    "```\n",
    "Compiler = 'clang 5.0.1'\n",
    "Build_Flags = '-std=c99 -fopenmp -DDOUBLE -g -O3 -march=native -lm'\n",
    "Run_Parameters = '-x 128 -y 128 -z 50'\n",
    "```"
   ]
  },
  {
   "cell_type": "markdown",
   "metadata": {},
   "source": [
    "---\n",
    "## Scaling"
   ]
  },
  {
   "cell_type": "code",
   "execution_count": 1,
   "metadata": {
    "collapsed": true
   },
   "outputs": [],
   "source": [
    "import matplotlib\n",
    "import numpy as np\n",
    "import matplotlib.pyplot as plt\n",
    "%matplotlib inline"
   ]
  },
  {
   "cell_type": "code",
   "execution_count": 4,
   "metadata": {},
   "outputs": [
    {
     "data": {
      "image/png": "[encoded data removed]",
      "text/plain": [
       "<matplotlib.figure.Figure at 0x110958940>"
      ]
     },
     "metadata": {},
     "output_type": "display_data"
    }
   ],
   "source": [
    "# Plot Measurements\n",
    "Threads = [1,2,4,8,18,36,72]\n",
    "fig, ax = plt.subplots(); ax.set_xscale('log', basex=2); ax.set_xticks(Threads)\n",
    "ax.get_xaxis().set_major_formatter(matplotlib.ticker.ScalarFormatter())\n",
    "ax.plot(Threads,[116.0, 59.5, 33.0, 19.0, 12.277777777777779, 9.527777777777779, 8.36111111111111],\n",
    "        label='Observed Scaling')\n",
    "ax.plot(Threads, [116.0, 58.0, 29.0, 14.5, 6.444444444444445, 3.2222222222222223, 1.6111111111111112],\n",
    "        label='Perfect Scaling')\n",
    "ax.legend(); ax.set_xlabel('Threads'); ax.set_ylabel('Seconds')\n",
    "plt.show()"
   ]
  },
  {
   "cell_type": "markdown",
   "metadata": {},
   "source": [
    "---\n",
    "## Roofline - Intel Haswell - 72 Threads - 36 Cores - 2 Sockets - 2301.0 Mhz\n",
    "| GB/sec | L1 B/W | L2 B/W | L3 B/W | DRAM B/W |\n",
    "|:---------|:------:|:------:|:------:|:--------:|\n",
    "| **1 Thread**   | 142.7  |  45.0  |  33.7  |   16.0   |\n",
    "|**72 Threads**  | 2399.9  |  784.0  |  564.8  |   60.4  |"
   ]
  },
  {
   "cell_type": "markdown",
   "metadata": {},
   "source": [
    "---\n",
    "## Program Aggregate\n",
    "| Experiment Aggregate Metrics | CPUTIME % | Inst/Cycle per Core | L1 DC Miss % | L2 DC Miss %  | L3 Miss % | L1 Loads/Cycle per Core | L2 B/W Used | L3 B/W Used  | DRAM B/W Used |\n",
    "|:-----------------------------|:---------:|:-------------------:|:------------:|:-------------:|:---------:|:-----------------------:|:-----------:|:------------:|:-------------:|\n",
    "| 1                            |  100.0 %   |        1.5          |         0.5% |         54.1% |     44.3% |                0.60     |        1.0% |        0.7%  |       0.6%    |\n",
    "| 72                           |  100.0 %   |        1.1          |         0.2% |         48.2% |     34.1% |                0.54     |        0.9% |        0.6%  |       1.9%    |"
   ]
  },
  {
   "cell_type": "markdown",
   "metadata": {},
   "source": [
    "---\n",
    "## ljForce( )\n",
    "```c\n",
    "145 int ljForce(SimFlat* s)\n",
    "146 {\n",
    "147    LjPotential* pot = (LjPotential *) s->pot;\n",
    "148    real_t sigma = pot->sigma;\n",
    "149    real_t epsilon = pot->epsilon;\n",
    "150    real_t rCut = pot->cutoff;\n",
    "151    real_t rCut2 = rCut*rCut;\n",
    "152 \n",
    "153    // zero forces and energy\n",
    "154    real_t ePot = 0.0;\n",
    "155    s->ePotential = 0.0;\n",
    "156    int fSize = s->boxes->nTotalBoxes*MAXATOMS;\n",
    "157    #pragma omp parallel for\n",
    "158    for (int ii=0; ii<fSize; ++ii)\n",
    "159    {\n",
    "160       zeroReal3(s->atoms->f[ii]);\n",
    "161       s->atoms->U[ii] = 0.;\n",
    "162    }\n",
    "163 \n",
    "164    real_t s6 = sigma*sigma*sigma*sigma*sigma*sigma;\n",
    "165 \n",
    "166    real_t rCut6 = s6 / (rCut2*rCut2*rCut2);\n",
    "167    real_t eShift = POT_SHIFT * rCut6 * (rCut6 - 1.0);\n",
    "168 \n",
    "169    int nNbrBoxes = 27;\n",
    "170 \n",
    "171    // loop over local boxes\n",
    "172    #pragma omp parallel for reduction(+:ePot)\n",
    "173    for (int iBox=0; iBox<s->boxes->nLocalBoxes; iBox++)\n",
    "174    {\n",
    "175       int nIBox = s->boxes->nAtoms[iBox];\n",
    "176 \n",
    "```\n",
    "| loop at ljForce.c: 178 | CPUTIME % | Inst/Cycle per Core | L1 DC Miss % | L2 DC Miss %  | L3 Miss % | L1 Loads/Cycle per Core | L2 B/W Used | L3 B/W Used  | DRAM B/W Used |\n",
    "|:-----------------------|:---------:|:-------------------:|:------------:|:-------------:|:---------:|:-----------------------:|:-----------:|:------------:|:-------------:|\n",
    "| 1                      |  94.3 %   |        1.6          |         0.2% |         37.2% |     31.7% |                0.60     |        0.5% |        0.2%  |       0.2%    |\n",
    "| 72                     |  36.2 %   |        1.3          |         0.3% |         46.8% |     29.7% |                0.60     |        1.3% |        0.8%  |       2.3%    |\n",
    "```c\n",
    "177       // loop over neighbors of iBox\n",
    "178       for (int jTmp=0; jTmp<nNbrBoxes; jTmp++)\n",
    "179       {\n",
    "180          int jBox = s->boxes->nbrBoxes[iBox][jTmp];\n",
    "181 \n",
    "182          assert(jBox>=0);\n",
    "183 \n",
    "184          int nJBox = s->boxes->nAtoms[jBox];\n",
    "185 \n",
    "186          // loop over atoms in iBox\n",
    "187          for (int iOff=MAXATOMS*iBox; iOff<(iBox*MAXATOMS+nIBox); iOff++)\n",
    "188          {\n",
    "189\n",
    "190             // loop over atoms in jBox\n",
    "191             for (int jOff=jBox*MAXATOMS; jOff<(jBox*MAXATOMS+nJBox); jOff++)\n",
    "192             {\n",
    "193                real3 dr;\n",
    "194                real_t r2 = 0.0;\n",
    "195                for (int m=0; m<3; m++)\n",
    "196                {\n",
    "197                   dr[m] = s->atoms->r[iOff][m]-s->atoms->r[jOff][m];\n",
    "198                   r2+=dr[m]*dr[m];\n",
    "199                }\n",
    "200 \n",
    "201                if ( r2 <= rCut2 && r2 > 0.0)\n",
    "202                {\n",
    "203 \n",
    "204                   // Important note:\n",
    "205                   // from this point on r actually refers to 1.0/r\n",
    "206                   r2 = 1.0/r2;\n",
    "207                   real_t r6 = s6 * (r2*r2*r2);\n",
    "208                   real_t eLocal = r6 * (r6 - 1.0) - eShift;\n",
    "209                   s->atoms->U[iOff] += 0.5*eLocal;\n",
    "210                   ePot += 0.5*eLocal;\n",
    "211 \n",
    "212                   // different formulation to avoid sqrt computation\n",
    "213                   real_t fr = - 4.0*epsilon*r6*r2*(12.0*r6 - 6.0);\n",
    "214                   for (int m=0; m<3; m++)\n",
    "215                   {\n",
    "216                      s->atoms->f[iOff][m] -= dr[m]*fr;\n",
    "217                   }\n",
    "218                }\n",
    "219             } // loop over atoms in jBox\n",
    "220          } // loop over atoms in iBox\n",
    "221       } // loop over neighbor boxes\n",
    "222    } // loop over local boxes in system\n",
    "223 \n",
    "224    ePot = ePot*4.0*epsilon;\n",
    "225    s->ePotential = ePot;\n",
    "226 \n",
    "227    return 0;\n",
    "228 }\n",
    "```"
   ]
  },
  {
   "cell_type": "markdown",
   "metadata": {},
   "source": [
    "Over Half time waiting in openMP lib for this run configuration"
   ]
  }
 ],
 "metadata": {
  "kernelspec": {
   "display_name": "Python 3",
   "language": "python",
   "name": "python3"
  },
  "language_info": {
   "codemirror_mode": {
    "name": "ipython",
    "version": 3
   },
   "file_extension": ".py",
   "mimetype": "text/x-python",
   "name": "python",
   "nbconvert_exporter": "python",
   "pygments_lexer": "ipython3",
   "version": "3.6.2"
  }
 },
 "nbformat": 4,
 "nbformat_minor": 2
}
