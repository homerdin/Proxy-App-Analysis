{
 "cells": [
  {
   "cell_type": "markdown",
   "metadata": {},
   "source": [
    "# miniTri\n",
    "miniTri is a proxy for a class of triangle based data analytics (Mantevo). This simple code is a self-contained piece of C++ software that uses triangle enumeration with a calculation of specific vertex and edge properties. Key uses related to miniTri include dense subgraph detection, characterizing graphs, improving community detection, and generating graphs. Related applications exist in cyber security, intelligence, and functional biology. miniTri attempts to be more application relevant than standard data analytics benchmarks such as Graph 500."
   ]
  },
  {
   "cell_type": "markdown",
   "metadata": {},
   "source": [
    "---\n",
    "## Parameters\n",
    "```\n",
    "Compiler = 'clang 5.0.1'\n",
    "Build_Flags = '-g -O3 -march=native -DNDEBUG -fopenmp -std=c++11'\n",
    "Run_Parameters = 'enron. 10 [# Threads]'\n",
    "```\n",
    "file from http://graphchallenge.mit.edu/data-sets"
   ]
  },
  {
   "cell_type": "markdown",
   "metadata": {},
   "source": [
    "---\n",
    "## Scaling"
   ]
  },
  {
   "cell_type": "code",
   "execution_count": 1,
   "metadata": {
    "collapsed": true
   },
   "outputs": [],
   "source": [
    "import matplotlib\n",
    "import numpy as np\n",
    "import matplotlib.pyplot as plt\n",
    "%matplotlib inline"
   ]
  },
  {
   "cell_type": "code",
   "execution_count": 2,
   "metadata": {},
   "outputs": [
    {
     "data": {
      "image/png": "[encoded data removed]",
      "text/plain": [
       "<matplotlib.figure.Figure at 0x10edb0ba8>"
      ]
     },
     "metadata": {},
     "output_type": "display_data"
    }
   ],
   "source": [
    "# Plot Measurements\n",
    "Threads = [1,2,4,8,18,36,72]\n",
    "fig, ax = plt.subplots(); ax.set_xscale('log', basex=2); ax.set_xticks(Threads)\n",
    "ax.get_xaxis().set_major_formatter(matplotlib.ticker.ScalarFormatter())\n",
    "ax.plot(Threads,[17.6, 14.5, 8.675, 5.4875, 2.7666666666666666, 1.7416666666666667, 1.6805555555555556],\n",
    "        label='Observed Scaling')\n",
    "ax.plot(Threads, [17.6, 8.8, 4.4, 2.2, 0.9777777777777779, 0.48888888888888893, 0.24444444444444446],\n",
    "        label='Perfect Scaling')\n",
    "ax.legend(); ax.set_xlabel('Threads'); ax.set_ylabel('Seconds')\n",
    "plt.show()"
   ]
  },
  {
   "cell_type": "markdown",
   "metadata": {},
   "source": [
    "---\n",
    "## Roofline - Intel Haswell - 72 Threads - 36 Cores - 2 Sockets - 2301.0 Mhz\n",
    "| GB/sec | L1 B/W | L2 B/W | L3 B/W | DRAM B/W |\n",
    "|:---------|:------:|:------:|:------:|:--------:|\n",
    "| **1 Thread**   | 142.7  |  45.0  |  33.7  |   16.0   |\n",
    "|**72 Threads**  | 2399.9  |  784.0  |  564.8  |   60.4  |"
   ]
  },
  {
   "cell_type": "markdown",
   "metadata": {
    "collapsed": true
   },
   "source": [
    "---\n",
    "## addNZ( )\n",
    "| addNZ() | CPUTIME % | Inst/Cycle per Core | L1 DC Miss % | L2 DC Miss %  | L3 Miss % | L1 Loads/Cycle per Core | L2 B/W Used | L3 B/W Used  | DRAM B/W Used |\n",
    "|:---------------------------------------------------------------------------------------------------------------------------------------------------------------------|:---------:|:-------------------:|:------------:|:-------------:|:---------:|:-----------------------:|:-----------:|:------------:|:-------------:|\n",
    "| 1                                                                                                                                                                    |  67.5 %   |        1.2          |         1.7% |         70.6% |      9.9% |                0.45     |        3.5% |        3.3%  |       0.7%    |\n",
    "| 72                                                                                                                                                                   |  65.7 %   |       0.45          |         1.6% |         67.0% |      0.0% |                0.13     |        2.0% |        1.8%  |       0.0%    |\n",
    "\n",
    "```c++\n",
    "627 int addNZ(std::map<int,std::list<int> > &nzMap,int col, int elemToAdd)\n",
    "628 {\n",
    "629   std::map<int,std::list<int> >::iterator it;\n",
    "630 \n",
    "631   it = nzMap.find(col);\n",
    "632 \n",
    "633   //////////////////////////////////////\n",
    "634   //If columns match, no additional nz, add element to end of list\n",
    "635   //////////////////////////////////////      \n",
    "636   if(it != nzMap.end())\n",
    "637   {\n",
    "638     (*it).second.push_back(elemToAdd);\n",
    "639     return 0;\n",
    "640   }\n",
    "641 \n",
    "642   std::list<int> newList;\n",
    "643   newList.push_back(elemToAdd);\n",
    "644   nzMap.insert(std::pair<int,std::list<int> >(col, newList));\n",
    "645   return 1;\n",
    "646 }\n",
    "```\n",
    "|STL function | CPUTIME |\n",
    "|:---|:---:|\n",
    "| `insert()` | 26.6%|\n",
    "| `push_back()` | 15.7% |\n",
    "| `find()` | 9.4% |\n",
    "| `list construction` | 9.6% |\n",
    "| `list deconstruction` | 2.3%|"
   ]
  },
  {
   "cell_type": "markdown",
   "metadata": {
    "collapsed": true
   },
   "source": [
    "---\n",
    "## computeKCounts\n",
    "## 4.1% CPUTIME \n",
    "## -- 3.9% in loop at 671\n",
    "| computeKCounts | CPUTIME % | Inst/Cycle per Core | L1 DC Miss % | L2 DC Miss %  | L3 Miss % | L1 Loads/Cycle per Core | L2 B/W Used | L3 B/W Used  | DRAM B/W Used |\n",
    "|:-----------------|:---------:|:-------------------:|:------------:|:-------------:|:---------:|:-----------------------:|:-----------:|:------------:|:-------------:|\n",
    "| 1                |  1.7 %   |       0.79          |         9.8% |         44.6% |      0.0% |                0.16     |        5.4% |        3.2%  |       0.0%    |\n",
    "| 72               |  4.2 %   |       0.18          |         4.4% |         65.0% |      0.0% |                0.06     |        1.7% |        1.5%  |       0.0%    |\n",
    "```c++\n",
    "      #pragma omp for schedule(dynamic,mBlockSize) \n",
    "669   for (int rownum=0; rownum<m; rownum++)\n",
    "670   {\n",
    "671     for(int nzIdx=0; nzIdx<nnzInRow[rownum]; nzIdx++)\n",
    "672     {\n",
    "673       int v1 = rownum;\n",
    "674       int v2 = vals[rownum][nzIdx];\n",
    "675       int v3 = vals2[rownum][nzIdx];\n",
    "676 \n",
    "677       // Removes redundant triangles\n",
    "678       if(v1>v2 && v1>v3)\n",
    "679       {\n",
    "680 \n",
    "681         /////////////////////////////////////////////////////////////////////////\n",
    "682         // Find tvMin                                                  \n",
    "683         /////////////////////////////////////////////////////////////////////////\n",
    "684         unsigned int tvMin = std::min(std::min(vTriDegrees[v1],vTriDegrees[v2]),vTriDegrees[v3]);\n",
    "685         /////////////////////////////////////////////////////////////////////////\n",
    "686 \n",
    "687         /////////////////////////////////////////////////////////////////////////\n",
    "688         // Find teMin                                                            \n",
    "689         /////////////////////////////////////////////////////////////////////////\n",
    "690 \n",
    "691         // I believe that v2<v3 by construction                                 \n",
    "692         int e1,e2,e3;\n",
    "693         if(v2<v3)\n",
    "694         {\n",
    "695           e1 = edgeInds.find(v2)->second.find(v3)->second;\n",
    "696           e2 = edgeInds.find(v2)->second.find(v1)->second;\n",
    "697           e3 = edgeInds.find(v3)->second.find(v1)->second;\n",
    "698         }\n",
    "699         else\n",
    "700         {\n",
    "701           e1 = edgeInds.find(v3)->second.find(v2)->second;\n",
    "702           e2 = edgeInds.find(v3)->second.find(v1)->second;\n",
    "703           e3 = edgeInds.find(v2)->second.find(v1)->second;\n",
    "704         }\n",
    "705 \n",
    "706         unsigned int teMin = std::min(std::min(eTriDegrees[e1],eTriDegrees[e2]),eTriDegrees[e3]);\n",
    "707         /////////////////////////////////////////////////////////////////////////\n",
    "708 \n",
    "709         /////////////////////////////////////////////////////////////////////////\n",
    "710         // Determine k count for triangle                                        \n",
    "711         /////////////////////////////////////////////////////////////////////////\n",
    "712         unsigned int maxK=3;\n",
    "713         for(unsigned int k=3; k<kCounts.size(); k++)\n",
    "714         {\n",
    "715           if(tvMin >= choose2(k-1) && teMin >= k-2)\n",
    "716           {\n",
    "717             maxK = k;\n",
    "718           }\n",
    "719           else\n",
    "720           {\n",
    "721             break;\n",
    "722           }\n",
    "723         }\n",
    "724         localK[maxK]++;\n",
    "725         /////////////////////////////////////////////////////////////////////////\n",
    "726       }\n",
    "727     }\n",
    "728   } // end loop over rows                                 \n",
    "\n",
    "\n",
    "```"
   ]
  },
  {
   "cell_type": "markdown",
   "metadata": {},
   "source": [
    "Missing time largely allocating memory"
   ]
  },
  {
   "cell_type": "code",
   "execution_count": null,
   "metadata": {
    "collapsed": true
   },
   "outputs": [],
   "source": []
  }
 ],
 "metadata": {
  "kernelspec": {
   "display_name": "Python 3",
   "language": "python",
   "name": "python3"
  },
  "language_info": {
   "codemirror_mode": {
    "name": "ipython",
    "version": 3
   },
   "file_extension": ".py",
   "mimetype": "text/x-python",
   "name": "python",
   "nbconvert_exporter": "python",
   "pygments_lexer": "ipython3",
   "version": "3.6.2"
  }
 },
 "nbformat": 4,
 "nbformat_minor": 2
}
