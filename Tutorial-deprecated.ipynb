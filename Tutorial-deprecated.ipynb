{
 "cells": [
  {
   "cell_type": "markdown",
   "metadata": {},
   "source": [
    "# Utilizing Observations to Create Application Characterization\n",
    "Workflow:  \n",
    "1. Gather Context starting with recording build options and run options.\n",
    "2. Decide on Important part(s) of Application to Analyze.\n",
    "3. Gather Observations with HPCToolkit *(Short HPCToolkit Guide at Bottom)* alongside Context.\n",
    "4. Perform Analysis.\n",
    "\n",
    "### Gather Application Context\n",
    "1. Build\n",
    "    * Record Compiler Version: `gcc -v`\n",
    "    * Record Optimization Flags: eg. `-O3 -ffast-math -march=native`\n",
    "    * Record Dependent Library Versions?: `ldd -v [.exe]` \n",
    "    * Check for Compiler Specific Source Code Pragmas\n",
    "        * Check to see what compile definitions in the build system are doing (-DINTEL)\n",
    "        ```\n",
    "        #ifdef INTEL\n",
    "        #pragma simd\n",
    "        #endif\n",
    "        ```\n",
    "        * Look Directly for `#pragma`'s in Source Code: `grep -B 3 -A 3 \"#pragma\" ./*`\n",
    "2. Run\n",
    "    * Record Number of Threads\n",
    "    * Record Application Run Options Used\n",
    "\n",
    "### Create Application Characterization from Observations\n",
    "1. <a href=#Scaling>Scaling</a>  \n",
    "2. <a href=#IPC>Instructions per Cycle</a>  \n",
    "3. <a href=#MemoryBound>Memory Characteristics</a>  \n",
    "\n",
    "\n"
   ]
  },
  {
   "cell_type": "markdown",
   "metadata": {},
   "source": [
    "---\n",
    "<a name='Scaling'/></a>\n",
    "# Scaling and Important Code Sections\n",
    "### Gather Machine Information\n",
    "`lstopo-no-graphics`  **or** `vim /proc/cpuinfo`  \n",
    "Number of Cores: 18 Cores per Socket \\* 2 Sockets = 36 Cores  \n",
    "Number of Sockets: 2  \n",
    "Number of Threads: 36 Cores \\* 2 Threads per Core = 72 Threads (Hyperthreading)  \n",
    "\n"
   ]
  },
  {
   "cell_type": "markdown",
   "metadata": {},
   "source": [
    "### Gather Time Observations\n",
    "Measure time for 1 thread. \n",
    "```\n",
    "export OMP_NUM_THREADS=1\n",
    "hpcrun -e CPUTIME -o TimeMeasurements/1Thread <.exe> [application options]\n",
    "hpcstruct <.exe>\n",
    "hpcprof -S <.exe>.hpcstruct -I /Path/to/Src -o outputDatabase TimeMeasurements/*\n",
    "hpcviewer outputDatabase\n",
    "```\n",
    "1 Thread Time = 8.95e+07 usec * 1e+06 usec/sec =  __88.6 seconds__\n",
    "  \n",
    "**or**\n",
    "```\n",
    "export OMP_NUM_THREADS=1\n",
    "time <.exe> [application options]\n",
    "```\n",
    "Repeat for different number of threads changing OMP_NUM_THREADS and **output name**"
   ]
  },
  {
   "cell_type": "code",
   "execution_count": 74,
   "metadata": {
    "collapsed": true
   },
   "outputs": [],
   "source": [
    "# Conversion Constant\n",
    "USEC_per_SEC = 1e+6\n",
    "\n",
    "# Map to hold measured exe time. Key = # of Threads\n",
    "TIME = {}\n",
    "TIME['1'] = 8.86e+07 / USEC_per_SEC\n",
    "TIME['2'] = (1.14e+08 / 2) / USEC_per_SEC\n",
    "TIME['4'] = (1.26e+08 / 4) / USEC_per_SEC\n",
    "TIME['8'] = (2.06e+08 / 8) / USEC_per_SEC\n",
    "TIME['18'] = (3.37e+08 / 18) / USEC_per_SEC\n",
    "TIME['36'] = (6.38e+08 / 36) / USEC_per_SEC # 1 Thread per Core\n",
    "TIME['72'] = (1.04e+09/ 72) / USEC_per_SEC # 2 Threads per Core"
   ]
  },
  {
   "cell_type": "markdown",
   "metadata": {},
   "source": [
    "### Calculate Perfect Scaling Baseline"
   ]
  },
  {
   "cell_type": "code",
   "execution_count": 75,
   "metadata": {
    "collapsed": true
   },
   "outputs": [],
   "source": [
    "# Map to hold perfect scaling exe time\n",
    "PerfectTIME = {}\n",
    "# Calculate Perfect Scaling Baseline: Execution Time on 1 Thread / Number of Threads\n",
    "for key in TIME.keys():\n",
    "    PerfectTIME[key] = TIME['1'] / int(key)"
   ]
  },
  {
   "cell_type": "markdown",
   "metadata": {},
   "source": [
    "### Compare Observed with Perfect"
   ]
  },
  {
   "cell_type": "code",
   "execution_count": 76,
   "metadata": {
    "collapsed": true
   },
   "outputs": [],
   "source": [
    "#imports for Graphing\n",
    "import matplotlib\n",
    "import numpy as np\n",
    "import matplotlib.pyplot as plt\n",
    "%matplotlib inline"
   ]
  },
  {
   "cell_type": "code",
   "execution_count": 77,
   "metadata": {},
   "outputs": [
    {
     "data": {
      "image/png": "[encoded data removed]",
      "text/plain": [
       "<matplotlib.figure.Figure at 0x110f71320>"
      ]
     },
     "metadata": {},
     "output_type": "display_data"
    }
   ],
   "source": [
    "# Plot Measurements\n",
    "Threads = [1,2,4,8,18,36,72]\n",
    "fig, ax = plt.subplots(); ax.set_xscale('log', basex=2); ax.set_xticks(Threads)\n",
    "ax.get_xaxis().set_major_formatter(matplotlib.ticker.ScalarFormatter())\n",
    "ax.plot(Threads, list(TIME.values()), label='Observed Scaling')\n",
    "ax.plot(Threads, list(PerfectTIME.values()), label='Perfect Scaling')\n",
    "ax.legend(); ax.set_xlabel('Threads'); ax.set_ylabel('Seconds')\n",
    "plt.show()"
   ]
  },
  {
   "cell_type": "markdown",
   "metadata": {},
   "source": [
    "## Decide on the Important Sections of the Code\n",
    "While in HPCViewer navigate to find sections of code where time is spent.  HPCViewer supplies built in 'Hot Path' tool.  \n",
    "\n",
    "![](assets/HPCToolkitHotPath.png)"
   ]
  },
  {
   "cell_type": "markdown",
   "metadata": {},
   "source": [
    "---\n",
    "<a name='IPC'/></a>\n",
    "# Instructions per Cycle\n",
    "\n",
    "### Gather Machine Information\n",
    "Agner.org or Documentation\n",
    "Maximum throughput for architecture pipeline = **4**  \n",
    "  \n",
    "*Notes:*\n",
    "1. *Based on decoding 2 instructions per cycle with possibility of fused instructions*\n",
    "2. *Instruction Microcache can hold decoded instructions*\n",
    "\n",
    "**Two Instructions per Cycle per Core is more realistic baseline**"
   ]
  },
  {
   "cell_type": "markdown",
   "metadata": {},
   "source": [
    "### Observe Instructions per Cycle\n",
    "```\n",
    "hpcrun  -e PAPI_TOT_INS -o IPCMeasurements <.exe> [application options]\n",
    "hpcstruct <.exe>\n",
    "hpcprof -S <.exe>.hpcstruct -I /path/to/src -o IPCDatabase IPCMeasurements\n",
    "hpcviewer IPCDatabase\n",
    "```"
   ]
  },
  {
   "cell_type": "code",
   "execution_count": 1,
   "metadata": {},
   "outputs": [
    {
     "name": "stdout",
     "output_type": "stream",
     "text": [
      "16.85 Instructions per Cycle with 72 IPC Baseline\n",
      "23.40% of Baseline\n",
      "0.47 Inst/Cyc per Core\n"
     ]
    }
   ],
   "source": [
    "# Machine Information\n",
    "Threads = 72\n",
    "Cores = 36\n",
    "Instructions_per_Cycle_per_Core_Baseline = 2\n",
    "Mhz = 2301.0\n",
    "\n",
    "# Conversion Constants\n",
    "MicroSeconds_per_Second = 1000000\n",
    "Cycles_per_Second_per_Mhz = 1000000\n",
    "\n",
    "# HPCToolkit Measurements\n",
    "Total_Instructions = 5.60e+11\n",
    "# From TimeDatabase\n",
    "CPUTIME = 1.04e+09\n",
    "\n",
    "# Application Run Cycles\n",
    "Application_MicroSeconds = CPUTIME / Threads # usec # CPUTIME counted on each thread\n",
    "Total_Secs = (Application_MicroSeconds / MicroSeconds_per_Second) # sec\n",
    "Cycles_per_Second = Mhz * Cycles_per_Second_per_Mhz\n",
    "Total_Cycles = Total_Secs * Cycles_per_Second\n",
    "\n",
    "# Instructions per Cycle\n",
    "Instructions_per_Cycle = Total_Instructions / Total_Cycles\n",
    "Instructions_per_Cycle_Baseline = Instructions_per_Cycle_per_Core_Baseline * Cores\n",
    "Instructions_per_Cycle_per_Core = Instructions_per_Cycle / Cores\n",
    "\n",
    "print('{:.4} Instructions per Cycle with {} IPC Baseline'.format(\n",
    "    Instructions_per_Cycle, Instructions_per_Cycle_Baseline))\n",
    "print('{:.2f}% of Baseline'.format((Instructions_per_Cycle / Instructions_per_Cycle_Baseline) * 100))\n",
    "print('{:.2} Inst/Cyc per Core'.format(Instructions_per_Cycle_per_Core))"
   ]
  },
  {
   "cell_type": "markdown",
   "metadata": {},
   "source": [
    "### Analyze\n",
    "*If Instructions per Cycle is Around or Above Baseline, Application is Likely Compute Bound. Consider the how close the Application is to Being Bound on Bandwidth. Determine how much room for improvement hardware core has.* "
   ]
  },
  {
   "cell_type": "markdown",
   "metadata": {},
   "source": [
    "---\n",
    "<a name='MemoryBound'/></a>\n",
    "# Memory Characteristics \n",
    "---\n",
    "\n",
    "## L1 Bandwidth\n",
    "\n",
    "L1 Cache: L1 can do partial loads, cannot assume full cacheline. Look to see how many loads/cycle are being completed: `L1_Hit_Rate * LD_Instructions / Application_Cycles = L1_Loads_per_Cycle` vs. # Load Ports Available\n",
    "\n",
    "### Gather Machine Information\n",
    "Agner.org or Documetation  \n",
    "**Number of Load Ports per Core = 2**\n",
    "\n",
    "### Observe L1 Loads\n",
    "```\n",
    "hpcrun -e PAPI_L1_DCM -e PAPI_LD_INS -e PAPI_SR_INS \\\n",
    "       -o L1LoadMeasurments <.exe> [application options]\n",
    "hpcstruct <.exe>\n",
    "hpcprof -S <.exe>.hpcstruct -I /path/to/src -o L1LoadDatabase measurementDirectory\n",
    "hpcviewer L1LoadDatabase\n",
    "```\n",
    "### Calculate L1 Loads per Cycle\n"
   ]
  },
  {
   "cell_type": "code",
   "execution_count": 2,
   "metadata": {},
   "outputs": [
    {
     "name": "stdout",
     "output_type": "stream",
     "text": [
      "L1 Data Cache Miss Rate: 0.046%\n",
      "12.1 Loads per Cycle with 72 Load Ports\n",
      "0.336 Loads per Cycle per Core\n"
     ]
    }
   ],
   "source": [
    "# Machine Information\n",
    "Threads = 72\n",
    "Cores = 36\n",
    "Load_Ports_per_Core = 2\n",
    "Total_Load_Ports = Load_Ports_per_Core * Cores\n",
    "Mhz = 2301.0\n",
    "\n",
    "# Conversion Constants\n",
    "MicroSeconds_per_Second = 1000000\n",
    "Cycles_per_Second_per_Mhz = 1000000\n",
    "\n",
    "# Measurements from HPCToolkit\n",
    "PAPI_LD_INS = 4.22e+11\n",
    "PAPI_SR_INS = 3.68e+10\n",
    "PAPI_L1_DCM = 2.12e+10\n",
    "# From TimeDatabase\n",
    "CPUTIME = 1.04e+09 # usec\n",
    "\n",
    "# Convert Time to Cycles\n",
    "Application_MicroSeconds = CPUTIME / Threads # usec \n",
    "Application_Secs = (CPUTIME / MicroSeconds_per_Second) # sec\n",
    "Cycles_per_Second = Mhz * Cycles_per_Second_per_Mhz # cycles/sec\n",
    "Total_Cycles = Total_Secs * Cycles_per_Second # cycles\n",
    "\n",
    "# Analysis\n",
    "L1_Miss_Rate = PAPI_L1_DCM / (PAPI_LD_INS + PAPI_SR_INS)\n",
    "L1_Loads = PAPI_LD_INS * (1 - L1_Miss_Rate)\n",
    "L1_Loads_per_Cycle = L1_Loads / Total_Cycles \n",
    "print('L1 Data Cache Miss Rate: {:.2}%'.format(L1_Miss_Rate))\n",
    "print('{:.3} Loads per Cycle with {} Load Ports'.format(L1_Loads_per_Cycle, Total_Load_Ports))\n",
    "print('{:.3} Loads per Cycle per Core'.format(L1_Loads_per_Cycle/ Cores))"
   ]
  },
  {
   "cell_type": "markdown",
   "metadata": {},
   "source": [
    "### Analyze\n",
    "*If L1 Loads per Cycle Close to Maximum Possible then Investigate Size of the L1 Loads.  May need to vectorize.*  "
   ]
  },
  {
   "cell_type": "markdown",
   "metadata": {},
   "source": [
    "---\n",
    "## Memory Bandwidth beyond L1 Cache\n",
    "\n",
    "1. <a href=#Roofline>Measure system with Empirical Roofline Toolkit</a>\n",
    "2. <a href=#HPCToolkit>Measure application with HPCToolkit</a>\n",
    "3. <a href=#Analyze>Analyze the data</a>"
   ]
  },
  {
   "cell_type": "markdown",
   "metadata": {},
   "source": [
    "<a name='Roofline'/></a>\n",
    "### 1. Measure the System with Empirical Roofline ToolKit\n",
    "```\n",
    "git clone https://bitbucket.org/berkeleylab/cs-roofline-toolkit.git\n",
    "cd cs-roofline-toolkit/Empirical_Roofline_Tool-1.1.0\n",
    "```\n",
    "Edit/Rename existing config file in Config directory \n",
    "```\n",
    "./ert /Path/to/your/config.file\n",
    "```\n",
    "View the .ps file in the results directory\n",
    "![](assets/roofline.png)\n",
    "#### Extract the Data"
   ]
  },
  {
   "cell_type": "code",
   "execution_count": 28,
   "metadata": {
    "collapsed": true
   },
   "outputs": [],
   "source": [
    "# Data From Roofline # B/W with 72 Threads\n",
    "Roofline_Bandwidth = {}\n",
    "Roofline_Bandwidth['L1'] = 2399.9 # GB/s\n",
    "Roofline_Bandwidth['L2']  = 784.0 # GB/s\n",
    "Roofline_Bandwidth['L3']  = 564.8 # GB/s\n",
    "Roofline_Bandwidth['DRAM']  = 60.4 # GB/s"
   ]
  },
  {
   "cell_type": "markdown",
   "metadata": {},
   "source": [
    "#### Collect Additional System Data"
   ]
  },
  {
   "cell_type": "code",
   "execution_count": 43,
   "metadata": {
    "collapsed": true
   },
   "outputs": [],
   "source": [
    "# Collect information from other sources\n",
    "BYTES_per_CACHELINE = 64\n",
    "Threads = 72"
   ]
  },
  {
   "cell_type": "markdown",
   "metadata": {},
   "source": [
    "<a name='HPCToolkit'/></a>\n",
    "### 2. Measure the Application with HPCToolkit\n",
    "#### Choose Desired Events and Measure\n",
    "```\n",
    "hpcrun -e PAPI_L1_DCM -e PAPI_L2_DCM -e PAPI_L2_ICM -e PAPI_L3_TCM \\\n",
    "    -o BWMeasurements <.exe> [application options]\n",
    "hpcrun -e PAPI_TOT_CYC -e PAPI_LD_INS -e PAPI_SR_INS \\\n",
    "    -o BWMeasurements <.exe>\n",
    "hpcstruct <.exe>\n",
    "hpcprof -S <.exe>.hpcstruct -I /Path/to/Src/'+' -o BWDatabase BWMeasurements\n",
    "hpcviewer BWDatabase\n",
    "```"
   ]
  },
  {
   "cell_type": "markdown",
   "metadata": {},
   "source": [
    "<a name='Analyze'/></a>\n",
    "### 3. Analyze the Data"
   ]
  },
  {
   "cell_type": "code",
   "execution_count": 60,
   "metadata": {
    "collapsed": true
   },
   "outputs": [],
   "source": [
    "# Measurements from HPCToolkit\n",
    "\n",
    "# TODO: Discuss the various ways to count this?\n",
    "BW_Used = {}\n",
    "BW_Used['L2'] = L1_misses = 2.12e+10 # Cachelines\n",
    "BW_Used['L3'] = L2_misses = 1.41e+10 # Cachelines\n",
    "BW_Used['DRAM'] = L3_misses = 1.63e+09 # Cachelines \n",
    "\n",
    "CPUTIME = 1.04e+09"
   ]
  },
  {
   "cell_type": "code",
   "execution_count": 65,
   "metadata": {},
   "outputs": [
    {
     "name": "stdout",
     "output_type": "stream",
     "text": [
      "L2 Data Cache Miss Rate: 66.51%\n",
      "L3 Data Cache Miss Rate: 11.56%\n"
     ]
    }
   ],
   "source": [
    "# Cache Miss Rates\n",
    "L2_Miss_Rate = L2_misses / L1_misses \n",
    "L3_Miss_Rate = L3_misses / L2_misses\n",
    "print('L2 Data Cache Miss Rate: {:.2f}%'.format(L2_Miss_Rate * 100))\n",
    "print('L3 Data Cache Miss Rate: {:.2f}%'.format(L3_Miss_Rate * 100))"
   ]
  },
  {
   "cell_type": "code",
   "execution_count": 62,
   "metadata": {
    "collapsed": true
   },
   "outputs": [],
   "source": [
    "# Conversion Constants\n",
    "BYTES_per_GB = 1073741824\n",
    "MicroSeconds_per_Second = 1000000"
   ]
  },
  {
   "cell_type": "code",
   "execution_count": 63,
   "metadata": {},
   "outputs": [
    {
     "name": "stdout",
     "output_type": "stream",
     "text": [
      "L2 Bandwidth Used: 11.16%\n",
      "L3 Bandwidth Used: 10.30%\n",
      "DRAM Bandwidth Used: 11.14%\n"
     ]
    }
   ],
   "source": [
    "# Do Some Conversions\n",
    "\n",
    "# Measured Cycles to Seconds\n",
    "Application_MicroSeconds= CPUTIME / Threads # Total Cycles counted on each thread\n",
    "Application_Seconds = Application_MicroSeconds / MicroSeconds_per_Second\n",
    "\n",
    "# Convert HPCToolkit Measurement to GB/sec\n",
    "# Cachelines to Bytes to GBs / Cycles to sec\n",
    "for CacheName, Cachelines in BW_Used.items():\n",
    "    Bytes_Used = Cachelines * BYTES_per_CACHELINE # Bytes\n",
    "    GB_Used = Bytes_Used / BYTES_per_GB # GBs\n",
    "    Application_BW = GB_Used / Application_Seconds # GB/sec\n",
    "\n",
    "    # Compare with roofline results\n",
    "    Utilization = Application_BW / Roofline_Bandwidth[CacheName]\n",
    "    print('{} Bandwidth Used: {:.2f}%'.format(CacheName, Utilization * 100))"
   ]
  },
  {
   "cell_type": "markdown",
   "metadata": {},
   "source": [
    "### Analyze\n",
    "*If bandwidth utilization is low, but application is bound on memory then most likely bound by memory latency.*"
   ]
  },
  {
   "cell_type": "markdown",
   "metadata": {
    "collapsed": true
   },
   "source": [
    "---\n",
    "# Using HPCToolkit\n",
    "#### Build Application with Debug Symbols and Optimization Options\n",
    "```\n",
    "clang -g -O3 ...\n",
    "```\n",
    "#### To View Available Events:  \n",
    "`hpcrun -L <.exe>`\n",
    "![](assets/hpcrunList.png)\n",
    "\n",
    "---\n",
    "\n",
    "### Basic HPCToolkit Workflow\n",
    "#### 1. Choose Desired Events and Measure\n",
    "```\n",
    "hpcrun -e <eventName1> -e <eventName2> ... -e <eventNameN> \\\n",
    "    -o MeasurementDirectory <.exe> [application options]\n",
    "```\n",
    "Repeat `hpcrun` as needed to collect all desired measurements.  \n",
    "  \n",
    "**Notes:**\n",
    "1. *When collecting same measurement into same measurement directory it sums them into one value.*\n",
    "3. *Cycles and Time is counted on each thread*\n",
    "4. *Some events may conflict without proper error message*\n",
    "\n",
    "#### 2. Build Binary Structure File\n",
    "```\n",
    "hpcstruct <.exe>\n",
    "```\n",
    "*Notes:*\n",
    "1. *Only need to run hpcstruct once*\n",
    "\n",
    "#### 3. Build HPCToolkit Database\n",
    "```\n",
    "hpcprof -S <.exe>.hpcstruct -I /Path/to/Src/'+' -o OutputDirectory MeasurementDirectory\n",
    "```\n",
    "*Notes:*   \n",
    "1. *'+' Recursively Searches that Directory*  \n",
    "2. *May include multiple `-I` arguments and multiple MeasurementDirectories*\n",
    "\n",
    "#### 4. View HPCToolkit Database\n",
    "```\n",
    "hpcviewer OutputDirectory\n",
    "```\n",
    "\n"
   ]
  },
  {
   "cell_type": "code",
   "execution_count": null,
   "metadata": {
    "collapsed": true
   },
   "outputs": [],
   "source": []
  }
 ],
 "metadata": {
  "kernelspec": {
   "display_name": "Python 3",
   "language": "python",
   "name": "python3"
  },
  "language_info": {
   "codemirror_mode": {
    "name": "ipython",
    "version": 3
   },
   "file_extension": ".py",
   "mimetype": "text/x-python",
   "name": "python",
   "nbconvert_exporter": "python",
   "pygments_lexer": "ipython3",
   "version": "3.6.2"
  }
 },
 "nbformat": 4,
 "nbformat_minor": 2
}
